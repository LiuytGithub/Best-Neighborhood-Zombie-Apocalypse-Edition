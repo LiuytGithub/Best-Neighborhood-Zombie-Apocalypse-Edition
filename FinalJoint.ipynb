{
 "cells": [
  {
   "cell_type": "markdown",
   "metadata": {},
   "source": [
    "# **WARNING**: The following presentation contains graphic depictions of zombies  \n",
    "## **ALERT:** A *hypothetical* zombie outbreak has seized Pittsburgh!!! \n",
    "![Zombie attack](https://media2.giphy.com/media/v1.Y2lkPTc5MGI3NjExMTI2ZmI3NWY3ZGU1MTIzZWQ2NDcwODYxYzNhODRkNTg0N2M4MmY0OSZlcD12MV9pbnRlcm5hbF9naWZzX2dpZklkJmN0PWc/V3zHRAZGp7Qo8/giphy.gif)  \n",
    "********************************************\n",
    "\n",
    "### *AHHHHHHHHHHHHHHHHHH!!!* You're done screaming, but now you may be thinking...\n",
    "* What do I do??  \n",
    "* Where do I go??  \n",
    "* How will I survive??  \n",
    "* Yay, no more schoool !!!  \n",
    "\n",
    "### Worry not, we got you! -- Let's find out the best neighborhood in Pittsburgh to hunker down and survive the **end of the world**..."
   ]
  },
  {
   "cell_type": "markdown",
   "metadata": {},
   "source": [
    "*******************\n",
    "# **Introduction:**\n",
    "Our project takes on a more goofy and cheeky approach the best neighborhood concept. We wanted to have as much fun as possible (for a final project haha), and after throwing around a few ideas, we ended on **ZOMBIES**. When consider what approach to take and what aspects we wanted to quantify for best neighborhood, we decided upon:\n",
    "* access to food  \n",
    "* access to medical supplies\n",
    "* population density\n",
    "\n",
    "as some of the most important factors to survival. Food is obviously crucial for stamina and the upkeep of one's health and energy. Medical supplies are important for tending to wounds and keeping infections at bay. And finally, while we cannot get out of the city, we would like to reduce the number of individuals around us for safety reasons. In the brainstorming process, we considered looking into:\n",
    "* access to greenspace\n",
    "* proximity to water\n",
    "\n",
    "In the end, we found that the features we chose to explore were a good reflection of the best traits a neighborhood could have for apocalyptic survival"
   ]
  },
  {
   "cell_type": "markdown",
   "metadata": {},
   "source": [
    "**************\n",
    "# **The Metric**: Best Neighborhood for Surviving a Zombie Apocalyse\n",
    "## *Features Measured:*\n",
    "### Population Density\n",
    "The less people around, the less potential zombies you have to kill off\n",
    "### Best Access to Supermarkets + convenience stores\n",
    "The ideal neighborhood has the **fewest** people per food source, so that competition for food access is reduced. *Can't fight zombies on an empty stomach*\n",
    "### Best Access to Hospitals\n",
    "The ideal neighborhood has the **fewest** people per hospital, so that that competition for medical supplies is reduced *Taking care of battle wounds is critical for survival*\n",
    "\n",
    "## *Data Sets Utilized:*\n",
    "### Population Density\n",
    "[Pittsburgh Neighborhoods](https://data.wprdc.org/dataset/neighborhoods2)  \n",
    "[City of Pittsburgh Neighborhood Population 2020](https://data.wprdc.org/dataset/2020-census-redistricting-data-extracts)  \n",
    "### Best Access to Supermarkets + convenience stores\n",
    "[Allegheny County Supermarkets & Convenience Stores](https://data.wprdc.org/dataset/allegheny-county-supermarkets-convenience-stores/resource/626357fa-c95d-465f-9a02-3121655b2b78?view_id=a6bdfc00-061c-4586-a7c2-008a0528fa9b)  \n",
    "### Best Access to Hospitals\n",
    "[Allegheny County Hospitals](https://data.wprdc.org/dataset/hospitals)\n",
    "[Allegheny County Primary Care Access](https://data.wprdc.org/dataset/allegheny-county-primary-care-facilities)\n",
    "********************************** \n"
   ]
  },
  {
   "cell_type": "markdown",
   "metadata": {},
   "source": [
    "# Population Density\n",
    "The first step to calculating population density was acquiring the population from each "
   ]
  },
  {
   "cell_type": "markdown",
   "metadata": {},
   "source": [
    "************************"
   ]
  },
  {
   "cell_type": "markdown",
   "metadata": {},
   "source": [
    "# Number of People per (Convenience Stores + Supermarkets)"
   ]
  },
  {
   "cell_type": "code",
   "execution_count": 31,
   "metadata": {},
   "outputs": [
    {
     "name": "stdout",
     "output_type": "stream",
     "text": [
      "{'Allegheny Center': 1419, 'Allegheny West': 540, 'Allentown': 2305, 'Arlington - Arlington Heights (Combined)': 2040, 'Banksville': 4127, 'Bedford Dwellings': 1386, 'Beechview': 7596, 'Beltzhoover': 1604, 'Bloomfield': 8665, 'Bluff': 5882, 'Bon Air': 759, 'Brighton Heights': 7105, 'Brookline': 13063, 'California-Kirkbride': 709, 'Carrick': 10290, 'Central Business District (Downtown)': 5477, 'Central Lawrenceville': 4720, 'Central Northside': 2972, 'Central Oakland': 5835, 'Chartiers City': 492, 'Chateau': 19, 'Crafton Heights': 3999, 'Crawford-Roberts': 2293, 'Duquesne Heights': 2397, 'East Allegheny': 1903, 'East Carnegie': 491, 'East Hills': 2892, 'East Liberty': 6187, 'Elliott': 2193, 'Esplen': 322, 'Fairywood': 1092, 'Fineview': 1140, 'Friendship': 1963, 'Garfield': 3643, 'Glen Hazel': 659, 'Greenfield': 7261, 'Hays': 321, 'Hazelwood': 3889, 'Highland Park': 6235, 'Homewood North': 2617, 'Homewood South': 2260, 'Homewood West': 642, 'Knoxville': 3493, 'Larimer': 1545, 'Lincoln Place': 3155, 'Lincoln-Lemington-Belmar': 3636, 'Lower Lawrenceville': 2641, 'Manchester': 2031, 'Marshall-Shadeland': 4046, 'Middle Hill': 1757, 'Morningside': 3252, 'Mount Washington': 8710, 'Mt. Oliver': 443, 'New Homestead': 917, 'North Oakland': 10691, 'North Shore': 301, 'Northview Heights': 1769, 'Oakwood': 1025, 'Overbrook': 3483, 'Perry North': 3758, 'Perry South': 3765, 'Point Breeze': 5348, 'Point Breeze North': 1988, 'Polish Hill': 1201, 'Regent Square': 971, 'Ridgemont': 390, 'Shadyside': 15317, 'Sheraden': 5147, 'South Oakland': 3329, 'South Shore': 29, 'South Side Flats': 7467, 'South Side Slopes': 4327, 'Spring Garden': 786, 'Spring Hill-City': 2364, 'Squirrel Hill North': 11879, 'Squirrel Hill South': 15317, 'St. Clair': 183, 'Stanton Heights': 4427, 'Strip District': 1845, 'Summer Hill': 998, 'Swisshelm Park': 1339, 'Terrace Village': 2320, 'Troy Hill': 2645, 'Upper Hill': 1723, 'Upper Lawrenceville': 2394, 'West End': 205, 'West Oakland': 2534, 'Westwood': 3332, 'Windgap': 1344}\n"
     ]
    }
   ],
   "source": [
    "import pandas as pd\n",
    "import matplotlib.pyplot as plt\n",
    "import numpy as np\n",
    "\n",
    "#using the population density data to get the people/(convenience stores + supermarkets) metric\n",
    "population = pd.read_csv(\"pghPopulation2020.csv\")\n",
    "population.head(20)\n",
    "\n",
    "# iterate through csv and get 2020 population for each neighbohood\n",
    "# create dictionary w/ neighborhood: population format\n",
    "neighPop = dict()\n",
    "for nhood, row in population.iterrows():\n",
    "    neighPop[row[\"Neighborhood\"]] = row[\"2020_Total_Population\"]\n",
    "    \n",
    "print(neighPop)"
   ]
  },
  {
   "cell_type": "code",
   "execution_count": 13,
   "metadata": {},
   "outputs": [],
   "source": [
    "zipdict = {15201: [\"LAWRENCEVILLE\",  \"STANTON HEIGHTS\"], 15203: [\"SOUTHSIDE\"], 15206: [\"EAST LIBERTY\", \"MORNINGSIDE\", \"EAST END\"], 15207: [\"HAZELWOOD\", \"GREENFIELD\", \"GLENWOOD\", \"GLEN HAZEL\", \"HAYS\", \"LINCOLN PL\"], 15208: [\"HOMEWOOD\", \"BRUSHTON\", \"EAST END\", \"POINT BREEZE\"], \n",
    "           15210: [\"MT WASHINGTON\", \"DUQUESNE HEIGHTS\"], 15213: [\"OAKLAND\", \"BELLEFIELD\"], 15217: [\"SQUIRREL HILL\", \"GREENFIELD\", \"BROWNS HILL\"], 15219: [\"UPTOWN\", \"HERRON HILL\", \"SCHENLEY HEIGHTS\"], 15222: [\"DOWNTOWN\"], 15224: [\"BLOOMFIELD\", \"GARFIELD\"], 15226: [\"BROOKLINE\", \"OVERBROOK\"],\n",
    "           15230: [\"VETERAN’S HOSPITAL\"], 15260: [\"THE UNIVERSITY OF PITTSBURGH\"], 15282: [\"DUQUESNE UNIVERSITY\"]}"
   ]
  },
  {
   "cell_type": "code",
   "execution_count": 3,
   "metadata": {},
   "outputs": [
    {
     "name": "stdout",
     "output_type": "stream",
     "text": [
      "{'HAZELWOOD': 4, 'GREENFIELD': 15, 'GLENWOOD': 4, 'GLEN HAZEL': 4, 'HAYS': 4, 'LINCOLN PL': 4, 'DOWNTOWN': 21, 'MT WASHINGTON': 18, 'DUQUESNE HEIGHTS': 18, 'UPTOWN': 17, 'HERRON HILL': 17, 'SCHENLEY HEIGHTS': 17, 'HOMEWOOD': 6, 'BRUSHTON': 6, 'EAST END': 23, 'POINT BREEZE': 6, 'SQUIRREL HILL': 11, 'BROWNS HILL': 11, 'EAST LIBERTY': 17, 'MORNINGSIDE': 17, 'BROOKLINE': 8, 'OVERBROOK': 8, 'OAKLAND': 17, 'BELLEFIELD': 17, 'LAWRENCEVILLE': 7, 'STANTON HEIGHTS': 7, 'SOUTHSIDE': 8, 'BLOOMFIELD': 11, 'GARFIELD': 11, 'DUQUESNE UNIVERSITY': 1}\n"
     ]
    }
   ],
   "source": [
    "# combine supermarkets with convenience stores\n",
    "conv = pd.read_csv(\"convenience.csv\")\n",
    "\n",
    "comb = {}\n",
    "for row in conv['Zip']:\n",
    "    try:\n",
    "        zip_code = int(row)\n",
    "        if zip_code in zipdict:\n",
    "            for neighborhood in zipdict[zip_code]:\n",
    "                    if neighborhood in comb:\n",
    "                        comb[neighborhood] += 1\n",
    "                    else:\n",
    "                        comb[neighborhood] = 1\n",
    "                    \n",
    "    except:\n",
    "        continue\n",
    "print(comb)"
   ]
  },
  {
   "cell_type": "code",
   "execution_count": 7,
   "metadata": {},
   "outputs": [
    {
     "name": "stdout",
     "output_type": "stream",
     "text": [
      "{'Bloomfield': 787.7272727272727, 'Brookline': 1632.875, 'Duquesne Heights': 133.16666666666666, 'East Liberty': 363.94117647058823, 'Garfield': 331.1818181818182, 'Glen Hazel': 164.75, 'Greenfield': 484.06666666666666, 'Hays': 80.25, 'Hazelwood': 972.25, 'Morningside': 191.2941176470588, 'Overbrook': 435.375, 'Point Breeze': 891.3333333333334, 'Stanton Heights': 632.4285714285714}\n"
     ]
    }
   ],
   "source": [
    "#num of people divided by Convenience Stores + Supermarkets\n",
    "div = {}\n",
    "#convert to uppercase \n",
    "for key in neighPop:\n",
    "    if key.upper() in comb:\n",
    "        div[key] = (neighPop[key] / comb[key.upper()])\n",
    "        \n",
    "print(div)"
   ]
  },
  {
   "cell_type": "code",
   "execution_count": 8,
   "metadata": {},
   "outputs": [
    {
     "data": {
      "image/png": "[encoded data removed]",
      "text/plain": [
       "<Figure size 864x432 with 1 Axes>"
      ]
     },
     "metadata": {
      "needs_background": "light"
     },
     "output_type": "display_data"
    }
   ],
   "source": [
    "#let's plot this out\n",
    "\n",
    "df = pd.DataFrame(list(div.items()), columns=['Neighborhood', 'Num of People per Supermarkets + Convenience Stores'])\n",
    "\n",
    "#largest to smallest\n",
    "df = df.sort_values(by='Num of People per Supermarkets + Convenience Stores', ascending=True)\n",
    "\n",
    "#bar graph\n",
    "plt.figure(figsize=(12, 6))\n",
    "plt.bar(df['Neighborhood'], df['Num of People per Supermarkets + Convenience Stores'])\n",
    "plt.xlabel('Neighborhood')\n",
    "plt.ylabel('Num of People per Supermarkets + Convenience Stores')\n",
    "plt.title('Number of People per Supermarkets + Convenience Stores in Pittsburgh Neighborhoods')\n",
    "plt.xticks(rotation=90)\n",
    "plt.yticks(np.arange(0, max(df['Num of People per Supermarkets + Convenience Stores'])+1, 100))\n",
    "plt.show()"
   ]
  },
  {
   "cell_type": "markdown",
   "metadata": {},
   "source": [
    "Analysis:"
   ]
  },
  {
   "cell_type": "markdown",
   "metadata": {},
   "source": [
    "*********"
   ]
  },
  {
   "cell_type": "markdown",
   "metadata": {},
   "source": [
    "# Number of People per (Hospital + Primary Care)"
   ]
  },
  {
   "cell_type": "code",
   "execution_count": 24,
   "metadata": {},
   "outputs": [
    {
     "name": "stdout",
     "output_type": "stream",
     "text": [
      "Zip Code: 15201\n",
      "Neighborhoods: ['LAWRENCEVILLE', 'STANTON HEIGHTS']\n",
      "Population: 0\n",
      "Hospitals: 0\n",
      "Primary Care Facilities: 8\n",
      "Total Health Facilities: 8\n",
      "\n",
      "Zip Code: 15203\n",
      "Neighborhoods: ['SOUTHSIDE']\n",
      "Population: 0\n",
      "Hospitals: 0\n",
      "Primary Care Facilities: 14\n",
      "Total Health Facilities: 14\n",
      "\n",
      "Zip Code: 15206\n",
      "Neighborhoods: ['EAST LIBERTY', 'MORNINGSIDE', 'EAST END']\n",
      "Population: 0\n",
      "Hospitals: 0\n",
      "Primary Care Facilities: 48\n",
      "Total Health Facilities: 48\n",
      "\n",
      "Zip Code: 15207\n",
      "Neighborhoods: ['HAZELWOOD', 'GREENFIELD', 'GLENWOOD', 'GLEN HAZEL', 'HAYS', 'LINCOLN PL']\n",
      "Population: 0\n",
      "Hospitals: 0\n",
      "Primary Care Facilities: 39\n",
      "Total Health Facilities: 39\n",
      "\n",
      "Zip Code: 15208\n",
      "Neighborhoods: ['HOMEWOOD', 'BRUSHTON', 'EAST END', 'POINT BREEZE']\n",
      "Population: 0\n",
      "Hospitals: 0\n",
      "Primary Care Facilities: 27\n",
      "Total Health Facilities: 27\n",
      "\n",
      "Zip Code: 15210\n",
      "Neighborhoods: ['MT WASHINGTON', 'DUQUESNE HEIGHTS']\n",
      "Population: 0\n",
      "Hospitals: 0\n",
      "Primary Care Facilities: 12\n",
      "Total Health Facilities: 12\n",
      "\n",
      "Zip Code: 15213\n",
      "Neighborhoods: ['OAKLAND', 'BELLEFIELD']\n",
      "Population: 0\n",
      "Hospitals: 4\n",
      "Primary Care Facilities: 94\n",
      "Total Health Facilities: 98\n",
      "\n",
      "Zip Code: 15217\n",
      "Neighborhoods: ['SQUIRREL HILL', 'GREENFIELD', 'BROWNS HILL']\n",
      "Population: 0\n",
      "Hospitals: 0\n",
      "Primary Care Facilities: 49\n",
      "Total Health Facilities: 49\n",
      "\n",
      "Zip Code: 15219\n",
      "Neighborhoods: ['UPTOWN', 'HERRON HILL', 'SCHENLEY HEIGHTS']\n",
      "Population: 0\n",
      "Hospitals: 3\n",
      "Primary Care Facilities: 30\n",
      "Total Health Facilities: 33\n",
      "\n",
      "Zip Code: 15222\n",
      "Neighborhoods: ['DOWNTOWN']\n",
      "Population: 0\n",
      "Hospitals: 0\n",
      "Primary Care Facilities: 13\n",
      "Total Health Facilities: 13\n",
      "\n",
      "Zip Code: 15224\n",
      "Neighborhoods: ['BLOOMFIELD', 'GARFIELD']\n",
      "Population: 0\n",
      "Hospitals: 4\n",
      "Primary Care Facilities: 36\n",
      "Total Health Facilities: 40\n",
      "\n",
      "Zip Code: 15226\n",
      "Neighborhoods: ['BROOKLINE', 'OVERBROOK']\n",
      "Population: 0\n",
      "Hospitals: 0\n",
      "Primary Care Facilities: 10\n",
      "Total Health Facilities: 10\n",
      "\n",
      "Zip Code: 15230\n",
      "Neighborhoods: ['VETERAN’S HOSPITAL']\n",
      "Population: 0\n",
      "Hospitals: 0\n",
      "Primary Care Facilities: 0\n",
      "Total Health Facilities: 0\n",
      "\n",
      "Zip Code: 15260\n",
      "Neighborhoods: ['THE UNIVERSITY OF PITTSBURGH']\n",
      "Population: 0\n",
      "Hospitals: 0\n",
      "Primary Care Facilities: 0\n",
      "Total Health Facilities: 0\n",
      "\n",
      "Zip Code: 15282\n",
      "Neighborhoods: ['DUQUESNE UNIVERSITY']\n",
      "Population: 0\n",
      "Hospitals: 0\n",
      "Primary Care Facilities: 0\n",
      "Total Health Facilities: 0\n",
      "\n"
     ]
    }
   ],
   "source": [
    "# load required libraries\n",
    "import pandas as pd\n",
    "\n",
    "# load the hospital and primary care data\n",
    "hospi = pd.read_csv('pittsburgh_hospitals.csv')\n",
    "pri_care = pd.read_csv('pittsburgh_primary_care.csv')\n",
    "\n",
    "# load the neighborhood and population data\n",
    "population = pd.read_csv('pghPopulation2020.csv')\n",
    "\n",
    "# create dictionaries to store the counts of hospitals, primary care facilities, and total health facilities in each neighborhood\n",
    "hospitals_count = {}\n",
    "primary_care_count = {}\n",
    "total_health_facilities_count = {}\n",
    "\n",
    "# iterate through the 'hospi' data frame and update the 'hospitals_count' and 'total_health_facilities_count' dictionaries\n",
    "for index, row in hospi.iterrows():\n",
    "    try:\n",
    "        zip_code = int(row['ZIP'])\n",
    "        if zip_code in zipdict:\n",
    "            for neighborhood in zipdict[zip_code]:\n",
    "                if neighborhood in hospitals_count:\n",
    "                    hospitals_count[neighborhood] += 1\n",
    "                else:\n",
    "                    hospitals_count[neighborhood] = 1\n",
    "                if neighborhood in total_health_facilities_count:\n",
    "                    total_health_facilities_count[neighborhood] += 1\n",
    "                else:\n",
    "                    total_health_facilities_count[neighborhood] = 1\n",
    "    except:\n",
    "        continue\n",
    "\n",
    "# iterate through the 'pri_care' data frame and update the 'primary_care_count' and 'total_health_facilities_count' dictionaries\n",
    "for index, row in pri_care.iterrows():\n",
    "    try:\n",
    "        zip_code = int(row['PRACTICE_ZIP'])\n",
    "        if zip_code in zipdict:\n",
    "            for neighborhood in zipdict[zip_code]:\n",
    "                if neighborhood in primary_care_count:\n",
    "                    primary_care_count[neighborhood] += 1\n",
    "                else:\n",
    "                    primary_care_count[neighborhood] = 1\n",
    "                if neighborhood in total_health_facilities_count:\n",
    "                    total_health_facilities_count[neighborhood] += 1\n",
    "                else:\n",
    "                    total_health_facilities_count[neighborhood] = 1\n",
    "    except:\n",
    "        continue\n",
    "\n",
    "# print the counts of hospitals, primary care facilities, and total health facilities in each neighborhood\n",
    "for zip_code in zipdict.keys():\n",
    "    neighborhood_list = zipdict[zip_code]\n",
    "    hospitals = hospitals_count.get(neighborhood_list[0], 0)\n",
    "    primary_care = primary_care_count.get(neighborhood_list[0], 0)\n",
    "    for neighborhood in neighborhood_list[1:]:\n",
    "        hospitals += hospitals_count.get(neighborhood, 0)\n",
    "        primary_care += primary_care_count.get(neighborhood, 0)\n",
    "    total_health_facilities = hospitals + primary_care\n",
    "    population = neighPop.get(neighborhood_list[0], 0)\n",
    "    print(f\"Zip Code: {zip_code}\")\n",
    "    print(f\"Neighborhoods: {neighborhood_list}\")\n",
    "    print(f\"Population: {population}\")\n",
    "    print(f\"Hospitals: {hospitals}\")\n",
    "    print(f\"Primary Care Facilities: {primary_care}\")\n",
    "    print(f\"Total Health Facilities: {total_health_facilities}\")\n",
    "    print()\n"
   ]
  },
  {
   "cell_type": "code",
   "execution_count": 33,
   "metadata": {},
   "outputs": [
    {
     "name": "stdout",
     "output_type": "stream",
     "text": [
      "{'Bloomfield': 433.25, 'Brookline': 2612.6, 'Duquesne Heights': 399.5, 'East Liberty': 412.46666666666664, 'Garfield': 182.15, 'Glen Hazel': 164.75, 'Greenfield': 382.1578947368421, 'Hays': 80.25, 'Hazelwood': 972.25, 'Morningside': 216.8, 'Overbrook': 696.6, 'Point Breeze': 1782.6666666666667, 'Stanton Heights': 1106.75}\n"
     ]
    }
   ],
   "source": [
    "#num of people divided by Total health Facilities\n",
    "div = {}\n",
    "#convert to uppercase \n",
    "for key in neighPop:\n",
    "    if key.upper() in comb:\n",
    "        div[key] = (neighPop[key] / total_health_facilities_count[key.upper()])\n",
    "        \n",
    "print(div)"
   ]
  },
  {
   "cell_type": "code",
   "execution_count": 34,
   "metadata": {},
   "outputs": [
    {
     "ename": "NameError",
     "evalue": "name 'people_per_health_facilitie' is not defined",
     "output_type": "error",
     "traceback": [
      "\u001b[0;31m---------------------------------------------------------------------------\u001b[0m",
      "\u001b[0;31mNameError\u001b[0m                                 Traceback (most recent call last)",
      "\u001b[0;32m<ipython-input-34-41928c6e0550>\u001b[0m in \u001b[0;36m<module>\u001b[0;34m\u001b[0m\n\u001b[1;32m      4\u001b[0m \u001b[0;34m\u001b[0m\u001b[0m\n\u001b[1;32m      5\u001b[0m \u001b[0;31m# Create a bar chart\u001b[0m\u001b[0;34m\u001b[0m\u001b[0;34m\u001b[0m\u001b[0;34m\u001b[0m\u001b[0m\n\u001b[0;32m----> 6\u001b[0;31m \u001b[0mplt\u001b[0m\u001b[0;34m.\u001b[0m\u001b[0mbar\u001b[0m\u001b[0;34m(\u001b[0m\u001b[0mneighborhoods\u001b[0m\u001b[0;34m,\u001b[0m \u001b[0mpeople_per_health_facilitie\u001b[0m\u001b[0;34m)\u001b[0m\u001b[0;34m\u001b[0m\u001b[0;34m\u001b[0m\u001b[0m\n\u001b[0m\u001b[1;32m      7\u001b[0m \u001b[0;34m\u001b[0m\u001b[0m\n\u001b[1;32m      8\u001b[0m \u001b[0;31m# Set the x-axis tick labels vertically\u001b[0m\u001b[0;34m\u001b[0m\u001b[0;34m\u001b[0m\u001b[0;34m\u001b[0m\u001b[0m\n",
      "\u001b[0;31mNameError\u001b[0m: name 'people_per_health_facilitie' is not defined"
     ]
    }
   ],
   "source": [
    "#let's plot this out\n",
    "\n",
    "df = pd.DataFrame(list(div.items()), columns=['Neighborhood', 'Num of People per Hosptials + Primary Care'])\n",
    "\n",
    "#largest to smallest\n",
    "df = df.sort_values(by='Num of People per Hosptials + Primary Care', ascending=True)\n",
    "\n",
    "#bar graph\n",
    "plt.figure(figsize=(12, 6))\n",
    "plt.bar(df['Neighborhood'], df['Num of People per Supermarkets + Convenience Stores'])\n",
    "plt.xlabel('Neighborhood')\n",
    "plt.ylabel('Num of People per Supermarkets + Convenience Stores')\n",
    "plt.title('Number of People per Supermarkets + Convenience Stores in Pittsburgh Neighborhoods')\n",
    "plt.xticks(rotation=90)\n",
    "plt.yticks(np.arange(0, max(df['Num of People per Supermarkets + Convenience Stores'])+1, 100))\n",
    "plt.show()"
   ]
  },
  {
   "cell_type": "code",
   "execution_count": null,
   "metadata": {},
   "outputs": [],
   "source": []
  }
 ],
 "metadata": {
  "kernelspec": {
   "display_name": "Python 3",
   "language": "python",
   "name": "python3"
  },
  "language_info": {
   "codemirror_mode": {
    "name": "ipython",
    "version": 3
   },
   "file_extension": ".py",
   "mimetype": "text/x-python",
   "name": "python",
   "nbconvert_exporter": "python",
   "pygments_lexer": "ipython3",
   "version": "3.8.3"
  }
 },
 "nbformat": 4,
 "nbformat_minor": 4
}

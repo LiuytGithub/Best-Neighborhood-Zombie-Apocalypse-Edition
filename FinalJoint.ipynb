{
 "cells": [
  {
   "cell_type": "markdown",
   "metadata": {},
   "source": [
    "# **WARNING**: The following presentation contains graphic depictions of zombies  \n",
    "## **ALERT:** A *hypothetical* zombie outbreak has seized Pittsburgh!!! \n",
    "![Zombie attack](https://media2.giphy.com/media/v1.Y2lkPTc5MGI3NjExMTI2ZmI3NWY3ZGU1MTIzZWQ2NDcwODYxYzNhODRkNTg0N2M4MmY0OSZlcD12MV9pbnRlcm5hbF9naWZzX2dpZklkJmN0PWc/V3zHRAZGp7Qo8/giphy.gif)  \n",
    "********************************************\n",
    "\n",
    "### *AHHHHHHHHHHHHHHHHHH!!!* You're done screaming, but now you may be thinking...\n",
    "* What do I do??  \n",
    "* Where do I go??  \n",
    "* How will I survive??  \n",
    "* Yay, no more schoool !!!  \n",
    "\n",
    "### Worry not, we got you! -- Let's find out the best neighborhood in Pittsburgh to hunker down and survive the **end of the world**..."
   ]
  },
  {
   "cell_type": "markdown",
   "metadata": {},
   "source": [
    "*******************\n",
    "# **Introduction:**\n",
    "Our project takes on a more goofy and cheeky approach the best neighborhood concept. We wanted to have as much fun as possible (for a final project haha), and after throwing around a few ideas, we ended on **ZOMBIES**. When consider what approach to take and what aspects we wanted to quantify for best neighborhood, we decided upon:\n",
    "* access to food  \n",
    "* access to medical supplies\n",
    "* population density\n",
    "\n",
    "as some of the most important factors to survival. Food is obviously crucial for stamina and the upkeep of one's health and energy. Medical supplies are important for tending to wounds and keeping infections at bay. And finally, while we cannot get out of the city, we would like to reduce the number of individuals around us for safety reasons. In the brainstorming process, we considered looking into:\n",
    "* access to greenspace\n",
    "* proximity to water\n",
    "\n",
    "In the end, we found that the features we chose to explore were a good reflection of the best traits a neighborhood could have for apocalyptic survival"
   ]
  },
  {
   "cell_type": "markdown",
   "metadata": {},
   "source": [
    "**************\n",
    "# **The Metric**: Best Neighborhood for Surviving a Zombie Apocalyse\n",
    "## *Features Measured:*\n",
    "### Population Density\n",
    "The less people around, the less potential zombies you have to kill off\n",
    "### Best Access to Supermarkets + convenience stores\n",
    "The ideal neighborhood has the **fewest** people per food source, so that competition for food access is reduced. *Can't fight zombies on an empty stomach*\n",
    "### Best Access to Hospitals\n",
    "The ideal neighborhood has the **fewest** people per hospital, so that that competition for medical supplies is reduced *Taking care of battle wounds is critical for survival*\n",
    "\n",
    "## *Data Sets Utilized:*\n",
    "### Population Density\n",
    "[Pittsburgh Neighborhoods](https://data.wprdc.org/dataset/neighborhoods2)  \n",
    "[City of Pittsburgh Neighborhood Population 2020](https://data.wprdc.org/dataset/2020-census-redistricting-data-extracts)  \n",
    "### Best Access to Supermarkets + convenience stores\n",
    "[Allegheny County Supermarkets & Convenience Stores](https://data.wprdc.org/dataset/allegheny-county-supermarkets-convenience-stores/resource/626357fa-c95d-465f-9a02-3121655b2b78?view_id=a6bdfc00-061c-4586-a7c2-008a0528fa9b)  \n",
    "### Best Access to Hospitals\n",
    "[Allegheny County Hospitals](https://data.wprdc.org/dataset/hospitals)\n",
    "[Allegheny County Primary Care Access](https://data.wprdc.org/dataset/allegheny-county-primary-care-facilities)\n",
    "********************************** \n"
   ]
  },
  {
   "cell_type": "markdown",
   "metadata": {},
   "source": [
    "# Population Density\n",
    "The first step to calculating population density was acquiring the population from each "
   ]
  }
 ],
 "metadata": {
  "kernelspec": {
   "display_name": "Python 3",
   "language": "python",
   "name": "python3"
  },
  "language_info": {
   "codemirror_mode": {
    "name": "ipython",
    "version": 3
   },
   "file_extension": ".py",
   "mimetype": "text/x-python",
   "name": "python",
   "nbconvert_exporter": "python",
   "pygments_lexer": "ipython3",
   "version": "3.8.3"
  }
 },
 "nbformat": 4,
 "nbformat_minor": 4
}

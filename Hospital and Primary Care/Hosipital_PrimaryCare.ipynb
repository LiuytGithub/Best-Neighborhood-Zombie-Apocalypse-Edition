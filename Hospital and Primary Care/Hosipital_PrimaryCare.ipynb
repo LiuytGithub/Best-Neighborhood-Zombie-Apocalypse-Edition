{
 "cells": [
  {
   "cell_type": "markdown",
   "metadata": {},
   "source": [
    "# Finding the Best Pittsburgh Neighborhood to Survive a Zombie Apocalypse\n",
    "\n",
    "This project aims to identify the best Pittsburgh neighborhood to survive a zombie apocalypse based on proximity to hospitals and primary care access. \n",
    "\n",
    "## Datasets\n",
    "\n",
    "We will use the following datasets for our analysis:\n",
    "\n",
    "1. Pittsburgh Neighborhoods\n",
    "2. Allegheny County Hospitals\n",
    "3. Allegheny County Primary Care Access\n",
    "\n",
    "## Data Analysis Process\n",
    "\n",
    "### 1. Importing Libraries and Loading Datasets\n",
    "\n",
    "First, we import the necessary libraries (pandas, NumPy, geopy) and load the datasets using pandas' `read_csv()` function.\n",
    "\n",
    "### 2. Data Cleaning and Preprocessing\n",
    "\n",
    "Before analyzing the data, we clean and preprocess it, which may include removing missing values, filtering out irrelevant columns, and extracting latitude and longitude information.\n",
    "\n",
    "### 3. Calculating Distances to Hospitals and Primary Care Facilities\n",
    "\n",
    "Using the `geopy.distance.great_circle()` function, we calculate the distance from each neighborhood to the nearest hospital and primary care facility.\n",
    "\n",
    "### 4. Scoring System\n",
    "\n",
    "We create a scoring system that assigns higher scores to neighborhoods with shorter distances to hospitals and primary care facilities.\n",
    "\n",
    "### 5. Finding the Best Neighborhood\n",
    "\n",
    "By sorting the neighborhoods based on their survival scores, we identify the best neighborhood for surviving a zombie apocalypse.\n",
    "\n",
    "## Data Visualization\n",
    "\n",
    "We use matplotlib to create the following visualizations:\n",
    "\n",
    "1. **Bar Plot**: The top 10 neighborhoods with the highest survival scores\n",
    "2. **Scatter Plot**: The neighborhoods, hospitals, and primary care facilities in Pittsburgh\n",
    "3. **Heatmap**: The survival scores of Pittsburgh neighborhoods\n",
    "\n",
    "## Conclusion\n",
    "\n",
    "Through this analysis, we have identified the best Pittsburgh neighborhood to survive a zombie apocalypse based on proximity to hospitals and primary care access. The visualizations help us better understand the analysis results and present our findings.\n"
   ]
  },
  {
   "cell_type": "markdown",
   "metadata": {},
   "source": [
    "Import necessary libraries:"
   ]
  },
  {
   "cell_type": "code",
   "execution_count": 37,
   "metadata": {},
   "outputs": [],
   "source": [
    "import pandas as pd\n",
    "import numpy as np\n",
    "import matplotlib.pyplot as plt"
   ]
  },
  {
   "cell_type": "markdown",
   "metadata": {},
   "source": [
    "Load the datasets"
   ]
  },
  {
   "cell_type": "code",
   "execution_count": 42,
   "metadata": {},
   "outputs": [],
   "source": [
    "hospitals = pd.read_csv('data-hospitallocation.csv')\n",
    "primary_care = pd.read_csv('data-primary-care-access-facilities.csv')\n",
    "neighborhoods = pd.read_csv('pittsburgh_neighborhoods.csv')"
   ]
  },
  {
   "cell_type": "code",
   "execution_count": 43,
   "metadata": {},
   "outputs": [
    {
     "name": "stdout",
     "output_type": "stream",
     "text": [
      "           Facility                                      Address   Latitude  \\\n",
      "0  UPMC Children's         4401 Penn Avenue Pittsburgh, PA 15224  40.467315   \n",
      "1        UPMC Magee      300 Halkett Street Pittsburgh, PA 15213  40.436889   \n",
      "2   UPMC McKeesport         1500 5th Avenue McKeesport, PA 15132  40.351343   \n",
      "3        UPMC Mercy      1400 Locust Street Pittsburgh, PA 15219  40.436137   \n",
      "4    UPMC Passavant  9100 Babcock Boulevard Pittsburgh, PA 15237  40.573319   \n",
      "\n",
      "   Longitude  \n",
      "0 -79.953590  \n",
      "1 -79.960700  \n",
      "2 -79.849457  \n",
      "3 -79.985285  \n",
      "4 -80.014525  \n",
      "                                 GROUP_NAME              PRACTICE_ADDR_1  \\\n",
      "0                  Picciotti, Isabella M MD           1 Allegheny Square   \n",
      "1               UPMC Emergency Medicine Inc   1 Childrens Hospital Drive   \n",
      "2              Hoover Medical Associates PC             100 Delafield Rd   \n",
      "3  Partners in Nephrology and Endocrinology           100 Delafield Road   \n",
      "4                   Bahl and Bahl Med Assoc  100 Delafield Road, Ste 103   \n",
      "\n",
      "     PRACTICE_ADDR_2 PRACTICE_CITY PRACTICE_STATE  PRACTICE_ZIP   Latitude  \\\n",
      "0                NaN    Pittsburgh             PA         15212  40.451948   \n",
      "1   4401 Penn Avenue    Pittsburgh             PA         15224  40.467315   \n",
      "2          Suite 312    Pittsburgh             PA         15215  40.490244   \n",
      "3  100 MAB Suite 212    Pittsburgh             PA         15215  40.506845   \n",
      "4                NaN    Pittsburgh             PA         15215  40.490244   \n",
      "\n",
      "   Longitude  \n",
      "0 -80.004895  \n",
      "1 -79.953590  \n",
      "2 -79.895719  \n",
      "3 -79.908076  \n",
      "4 -79.895719  \n",
      "   objectid  fid_blockg statefp10 countyfp10 tractce10 blkgrpce10  \\\n",
      "0         1         233        42        003    140500          3   \n",
      "1         2         203        42        003    140100          3   \n",
      "2         3          86        42        003    101700          2   \n",
      "3         4         214        42        003    050900          1   \n",
      "4         5         173        42        003    300100          5   \n",
      "\n",
      "        geoid10     namelsad10 mtfcc10 funcstat10  ...  page_number  \\\n",
      "0  420031405003  Block Group 3   G5030          S  ...           15   \n",
      "1  420031401003  Block Group 3   G5030          S  ...           15   \n",
      "2  420031017002  Block Group 2   G5030          S  ...           15   \n",
      "3  420030509001  Block Group 1   G5030          S  ...           15   \n",
      "4  420033001005  Block Group 5   G5030          S  ...           15   \n",
      "\n",
      "    plannerassign                              globalid created_user  \\\n",
      "0   Ose Akinlotan  a642a6b6-a2a9-48d5-acf2-3e2ce87d4bc0          SDE   \n",
      "1   Ose Akinlotan  20d4605b-258e-441a-a57e-a28fdabb6d30          SDE   \n",
      "2   Ose Akinlotan  bf4065e7-c29c-48bd-b529-e7fd99077238          SDE   \n",
      "3   Ose Akinlotan  fed3fb32-0cd3-4556-aa41-17ee03b4fe41          SDE   \n",
      "4  Thomas Scharff  8669d2f0-b886-4519-99d0-bb1015b592b0          SDE   \n",
      "\n",
      "          created_date  last_edited_user     last_edited_date  temp  \\\n",
      "0  2020-08-14T12:57:28               SDE  2020-08-14T13:02:13   NaN   \n",
      "1  2020-08-14T12:57:28               SDE  2020-08-14T13:02:41   NaN   \n",
      "2  2020-08-14T12:57:28               SDE  2020-08-14T12:59:55   NaN   \n",
      "3  2020-08-14T12:57:28               SDE  2020-08-14T12:58:41   NaN   \n",
      "4  2020-08-14T12:57:28               SDE  2020-08-14T13:00:19   NaN   \n",
      "\n",
      "     shape_area  shape_length  \n",
      "0  8.153647e+06  14047.065024  \n",
      "1  3.407739e+07  30347.886823  \n",
      "2  1.275116e+07  14577.441571  \n",
      "3  4.997845e+06  14216.959213  \n",
      "4  8.410563e+06  12003.269761  \n",
      "\n",
      "[5 rows x 39 columns]\n"
     ]
    }
   ],
   "source": [
    "print(hospitals_data.head())\n",
    "print(primary_care_data.head())\n",
    "print(pittsburgh_neighborhood_data.head())"
   ]
  },
  {
   "cell_type": "markdown",
   "metadata": {},
   "source": [
    "To check if this DataFrames are copies or views"
   ]
  },
  {
   "cell_type": "code",
   "execution_count": 69,
   "metadata": {},
   "outputs": [],
   "source": [
    "hospitals = hospitals.copy()\n",
    "primary_care_pittsburgh = primary_care_pittsburgh.copy()\n",
    "neighborhoods = neighborhoods.copy()"
   ]
  },
  {
   "cell_type": "markdown",
   "metadata": {},
   "source": [
    "Convert the Latitude and Longitude data from string to float:"
   ]
  },
  {
   "cell_type": "code",
   "execution_count": 70,
   "metadata": {},
   "outputs": [],
   "source": [
    "def to_float(val):\n",
    "    try:\n",
    "        return float(val)\n",
    "    except ValueError:\n",
    "        return None"
   ]
  },
  {
   "cell_type": "code",
   "execution_count": 71,
   "metadata": {},
   "outputs": [],
   "source": [
    "hospitals.loc[:, \"Latitude\"] = hospitals[\"Latitude\"].apply(to_float)\n",
    "hospitals.loc[:, \"Longitude\"] = hospitals[\"Longitude\"].apply(to_float)\n",
    "primary_care_pittsburgh.loc[:, \"Latitude\"] = primary_care_pittsburgh[\"Latitude\"].apply(to_float)\n",
    "primary_care_pittsburgh.loc[:, \"Longitude\"] = primary_care_pittsburgh[\"Longitude\"].apply(to_float)\n",
    "neighborhoods.loc[:, \"intptlat10\"] = neighborhoods[\"intptlat10\"].apply(to_float)\n",
    "neighborhoods.loc[:, \"intptlon10\"] = neighborhoods[\"intptlon10\"].apply(to_float)"
   ]
  },
  {
   "cell_type": "code",
   "execution_count": 72,
   "metadata": {},
   "outputs": [],
   "source": [
    "hospitals = hospitals.dropna(subset=[\"Latitude\", \"Longitude\"])\n",
    "primary_care_pittsburgh = primary_care_pittsburgh.dropna(subset=[\"Latitude\", \"Longitude\"])\n",
    "neighborhoods = neighborhoods.dropna(subset=[\"intptlat10\", \"intptlon10\"])"
   ]
  },
  {
   "cell_type": "markdown",
   "metadata": {},
   "source": [
    "Filter primary care facilities to include only those in Pittsburgh:"
   ]
  },
  {
   "cell_type": "code",
   "execution_count": 73,
   "metadata": {},
   "outputs": [],
   "source": [
    "primary_care_pittsburgh = primary_care[primary_care[\"PRACTICE_CITY\"] == \"Pittsburgh\"]"
   ]
  },
  {
   "cell_type": "markdown",
   "metadata": {},
   "source": [
    "Create a function to calculate the distance between two coordinates:"
   ]
  },
  {
   "cell_type": "markdown",
   "metadata": {},
   "source": [
    "The haversine_distance function calculates the distance between two points on Earth's surface, given their latitude and longitude coordinates. This is particularly useful for our project since we need to measure the distance between neighborhoods and healthcare facilities.\n",
    "\n",
    "The function uses the Haversine formula, which is a mathematical equation that provides an accurate distance measurement between two points on a sphere, such as Earth. The Haversine formula takes into account the Earth's curvature to provide more precise distance calculations than simpler methods like Euclidean distance.\n",
    "\n",
    "First convert the latitude and longitude coordinates from degrees to radians. Then, apply the Haversine formula to compute the distance between the two points. Finally, the function returns the calculated distance in kilometers."
   ]
  },
  {
   "cell_type": "code",
   "execution_count": 74,
   "metadata": {},
   "outputs": [],
   "source": [
    "import math\n",
    "\n",
    "def haversine_distance(coord1, coord2):\n",
    "    lat1, lon1 = coord1\n",
    "    lat2, lon2 = coord2\n",
    "    R = 6371.0  # Earth's radius in kilometers\n",
    "\n",
    "    lat1_rad = math.radians(lat1)\n",
    "    lon1_rad = math.radians(lon1)\n",
    "    lat2_rad = math.radians(lat2)\n",
    "    lon2_rad = math.radians(lon2)\n",
    "\n",
    "    dlat = lat2_rad - lat1_rad\n",
    "    dlon = lon2_rad - lon1_rad\n",
    "\n",
    "    a = math.sin(dlat / 2)**2 + math.cos(lat1_rad) * math.cos(lat2_rad) * math.sin(dlon / 2)**2\n",
    "    c = 2 * math.atan2(math.sqrt(a), math.sqrt(1 - a))\n",
    "\n",
    "    distance = R * c\n",
    "    return distance * 0.621371  # Convert kilometers to miles"
   ]
  },
  {
   "cell_type": "markdown",
   "metadata": {},
   "source": [
    "Find the nearest hospital and primary care facility for each neighborhood:"
   ]
  },
  {
   "cell_type": "markdown",
   "metadata": {},
   "source": [
    "To find the nearest facility, we loop through each facility in the DataFrame and calculate the distance from the neighborhood to the facility using the haversine_distance function. We keep track of the shortest distance we've found so far, and update it whenever we find a closer facility.\n",
    "\n",
    "Once we've checked all the facilities, the function returns the shortest distance we found. This represents the distance to the nearest healthcare facility for the given neighborhood.\n",
    "\n",
    "By using these two functions, we can analyze the proximity of each Pittsburgh neighborhood to healthcare facilities, which is an essential factor in determining the best neighborhoods to survive a zombie apocalypse. The closer a neighborhood is to hospitals and primary care facilities, the better its chances of survival during an emergency."
   ]
  },
  {
   "cell_type": "code",
   "execution_count": 75,
   "metadata": {},
   "outputs": [],
   "source": [
    "def find_nearest_facility(neighborhood_coord, facilities_df):\n",
    "    min_distance = float(\"inf\")\n",
    "    for index, facility in facilities_df.iterrows():\n",
    "        try:\n",
    "            facility_coord = (float(facility[\"Latitude\"]), float(facility[\"Longitude\"]))\n",
    "            distance = haversine_distance(neighborhood_coord, facility_coord)\n",
    "            if distance < min_distance:\n",
    "                min_distance = distance\n",
    "        except ValueError:\n",
    "            # Skip rows with invalid latitude or longitude values\n",
    "            continue\n",
    "    return min_distance"
   ]
  },
  {
   "cell_type": "markdown",
   "metadata": {},
   "source": [
    "Reconstruc the Dataframe:"
   ]
  },
  {
   "cell_type": "code",
   "execution_count": 76,
   "metadata": {},
   "outputs": [],
   "source": [
    "neighborhoods[\"nearest_hospital_distance\"] = neighborhoods.apply(lambda row: find_nearest_facility((float(row[\"intptlat10\"]), float(row[\"intptlon10\"])), hospitals), axis=1)\n",
    "neighborhoods[\"nearest_primary_care_distance\"] = neighborhoods.apply(lambda row: find_nearest_facility((float(row[\"intptlat10\"]), float(row[\"intptlon10\"])), primary_care_pittsburgh), axis=1)\n"
   ]
  },
  {
   "cell_type": "markdown",
   "metadata": {},
   "source": [
    "Rank the neighborhoods based on proximity to hospitals and primary care access:"
   ]
  },
  {
   "cell_type": "markdown",
   "metadata": {},
   "source": [
    "To rank the neighborhoods based on their proximity to hospitals and primary care facilities, we use a combined score that takes into account the distance to the nearest hospital and the nearest primary care facility. We calculate this combined score for each neighborhood using the following formula:\n",
    "\n",
    "**combined_score = (nearest_hospital_distance * weight1) + (nearest_primary_care_distance * weight2)**\n",
    "\n",
    "In this formula, nearest_hospital_distance represents the distance from a neighborhood to the nearest hospital, and nearest_primary_care_distance represents the distance from the neighborhood to the nearest primary care facility. The weight1 and weight2 are adjustable weights that you can assign based on the importance you want to give to hospitals and primary care facilities, respectively. In our current analysis, we assigned equal weights of 0.5 to both components.\n",
    "\n",
    "To calculate the combined score for each neighborhood, we first use the find_nearest_facility function to find the nearest hospital and primary care facility. We then calculate the combined score using the formula mentioned above.\n",
    "\n",
    "After computing the combined scores for all neighborhoods, we sort the neighborhoods in ascending order based on their combined scores. A lower combined score indicates better proximity to healthcare facilities, making the neighborhood more suitable for surviving a zombie apocalypse.\n",
    "\n",
    "Finally, we display the top 10 neighborhoods based on their combined scores, along with their distances to the nearest hospital and primary care facility. This ranking helps us identify the best neighborhoods in Pittsburgh to survive a zombie apocalypse, considering their access to healthcare facilities."
   ]
  },
  {
   "cell_type": "code",
   "execution_count": 77,
   "metadata": {},
   "outputs": [
    {
     "name": "stdout",
     "output_type": "stream",
     "text": [
      "    neighbor  nearest_hospital_distance  nearest_primary_care_distance  \\\n",
      "77        62                   0.172401                       0.051301   \n",
      "21         5                   0.299891                       0.097913   \n",
      "45        46                   0.384916                       0.034742   \n",
      "52        27                   0.310163                       0.156548   \n",
      "22        67                   0.274046                       0.193064   \n",
      "46        63                   0.275910                       0.200994   \n",
      "61        57                   0.359312                       0.119030   \n",
      "2         18                   0.429851                       0.056996   \n",
      "44        39                   0.319566                       0.167728   \n",
      "43        58                   0.375601                       0.179635   \n",
      "\n",
      "    combined_score  \n",
      "77        0.111851  \n",
      "21        0.198902  \n",
      "45        0.209829  \n",
      "52        0.233355  \n",
      "22        0.233555  \n",
      "46        0.238452  \n",
      "61        0.239171  \n",
      "2         0.243423  \n",
      "44        0.243647  \n",
      "43        0.277618  \n"
     ]
    }
   ],
   "source": [
    "# Calculate a combined score (you can adjust weights as needed)\n",
    "neighborhoods[\"combined_score\"] = neighborhoods[\"nearest_hospital_distance\"] * 0.5 + neighborhoods[\"nearest_primary_care_distance\"] * 0.5\n",
    "\n",
    "# Sort the neighborhoods by the combined score in ascending order (lower score is better)\n",
    "sorted_neighborhoods = neighborhoods.sort_values(by=\"combined_score\", ascending=True)\n",
    "\n",
    "# Print the top 10 neighborhoods\n",
    "print(sorted_neighborhoods[[\"neighbor\", \"nearest_hospital_distance\", \"nearest_primary_care_distance\", \"combined_score\"]].head(10))\n"
   ]
  },
  {
   "cell_type": "code",
   "execution_count": 78,
   "metadata": {},
   "outputs": [
    {
     "name": "stdout",
     "output_type": "stream",
     "text": [
      "                         hood  nearest_hospital_distance  \\\n",
      "77               West Oakland                   0.172401   \n",
      "21   Lincoln-Lemington-Belmar                   0.299891   \n",
      "45           Allegheny Center                   0.384916   \n",
      "52                 Bloomfield                   0.310163   \n",
      "22                      Bluff                   0.274046   \n",
      "46            Central Oakland                   0.275910   \n",
      "61           Crawford-Roberts                   0.359312   \n",
      "2                    Garfield                   0.429851   \n",
      "44             East Allegheny                   0.319566   \n",
      "43  Central Business District                   0.375601   \n",
      "\n",
      "    nearest_primary_care_distance  combined_score  \n",
      "77                       0.051301        0.111851  \n",
      "21                       0.097913        0.198902  \n",
      "45                       0.034742        0.209829  \n",
      "52                       0.156548        0.233355  \n",
      "22                       0.193064        0.233555  \n",
      "46                       0.200994        0.238452  \n",
      "61                       0.119030        0.239171  \n",
      "2                        0.056996        0.243423  \n",
      "44                       0.167728        0.243647  \n",
      "43                       0.179635        0.277618  \n"
     ]
    }
   ],
   "source": [
    "# Print the top 10 neighborhoods with their names\n",
    "print(sorted_neighborhoods[[\"hood\", \"nearest_hospital_distance\", \"nearest_primary_care_distance\", \"combined_score\"]].head(10))"
   ]
  },
  {
   "cell_type": "markdown",
   "metadata": {},
   "source": [
    "1. **Bar Plot**: The top 10 neighborhoods with the highest survival scores"
   ]
  },
  {
   "cell_type": "code",
   "execution_count": 79,
   "metadata": {},
   "outputs": [
    {
     "data": {
      "image/png": "[encoded data removed]",
      "text/plain": [
       "<Figure size 864x432 with 1 Axes>"
      ]
     },
     "metadata": {
      "needs_background": "light"
     },
     "output_type": "display_data"
    }
   ],
   "source": [
    "# Extract the top 10 neighborhoods\n",
    "top_neighborhoods = sorted_neighborhoods.head(10)\n",
    "\n",
    "# Set the index of the DataFrame to the 'hood' column to use neighborhood names as labels\n",
    "top_neighborhoods = top_neighborhoods.set_index(\"hood\")\n",
    "\n",
    "# Plot the combined scores for the top 10 neighborhoods\n",
    "ax = top_neighborhoods[\"combined_score\"].plot(kind='bar', figsize=(12, 6), color='steelblue', alpha=0.8)\n",
    "\n",
    "# Set the title and labels\n",
    "ax.set_title(\"Top 10 Pittsburgh Neighborhoods to Survive a Zombie Apocalypse\", fontsize=18)\n",
    "ax.set_xlabel(\"Neighborhood\", fontsize=14)\n",
    "ax.set_ylabel(\"Combined Score (lower is better)\", fontsize=14)\n",
    "\n",
    "# Customize the ticks\n",
    "ax.tick_params(axis=\"x\", labelsize=10, rotation=45)\n",
    "\n",
    "# Add the grid\n",
    "ax.grid(axis=\"y\", linestyle=\"--\", alpha=0.7)\n",
    "\n",
    "# Display the plot\n",
    "plt.show()"
   ]
  }
 ],
 "metadata": {
  "kernelspec": {
   "display_name": "Python 3",
   "language": "python",
   "name": "python3"
  },
  "language_info": {
   "codemirror_mode": {
    "name": "ipython",
    "version": 3
   },
   "file_extension": ".py",
   "mimetype": "text/x-python",
   "name": "python",
   "nbconvert_exporter": "python",
   "pygments_lexer": "ipython3",
   "version": "3.8.3"
  }
 },
 "nbformat": 4,
 "nbformat_minor": 4
}

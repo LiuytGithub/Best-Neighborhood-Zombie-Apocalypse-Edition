{
 "cells": [
  {
   "cell_type": "markdown",
   "metadata": {},
   "source": [
    "# Finding the Best Pittsburgh Neighborhood to Survive a Zombie Apocalypse\n",
    "\n",
    "This project aims to identify the best Pittsburgh neighborhood to survive a zombie apocalypse based on proximity to hospitals and primary care access. \n",
    "\n",
    "## Datasets\n",
    "\n",
    "We will use the following datasets for our analysis:\n",
    "\n",
    "1. PGHSNAP - Neighborhood Census Data\n",
    "2. Allegheny County Hospitals\n",
    "3. Allegheny County Primary Care Access\n",
    "\n",
    "## Data Analysis Process\n",
    "\n",
    "### 1. Importing Libraries and Loading Datasets\n",
    "\n",
    "First, we import the necessary libraries (pandas, NumPy, geopy) and load the datasets using pandas' `read_csv()` function.\n",
    "\n",
    "### 2. Data Cleaning and Preprocessing\n",
    "\n",
    "Before analyzing the data, we clean and preprocess it, which may include removing missing values, filtering out irrelevant columns, and extracting latitude and longitude information.\n",
    "\n",
    "### 3. Calculating Distances to Hospitals and Primary Care Facilities\n",
    "\n",
    "Using the `geopy.distance.great_circle()` function, we calculate the distance from each neighborhood to the nearest hospital and primary care facility.\n",
    "\n",
    "### 4. Scoring System\n",
    "\n",
    "We create a scoring system that assigns higher scores to neighborhoods with shorter distances to hospitals and primary care facilities.\n",
    "\n",
    "### 5. Finding the Best Neighborhood\n",
    "\n",
    "By sorting the neighborhoods based on their survival scores, we identify the best neighborhood for surviving a zombie apocalypse.\n",
    "\n",
    "## Data Visualization\n",
    "\n",
    "We use matplotlib to create the following visualizations:\n",
    "\n",
    "1. **Bar Plot**: The top 10 neighborhoods with the highest survival scores\n",
    "2. **Scatter Plot**: The neighborhoods, hospitals, and primary care facilities in Pittsburgh\n",
    "3. **Heatmap**: The survival scores of Pittsburgh neighborhoods\n",
    "\n",
    "## Conclusion\n",
    "\n",
    "Through this analysis, we have identified the best Pittsburgh neighborhood to survive a zombie apocalypse based on proximity to hospitals and primary care access. The visualizations help us better understand the analysis results and present our findings.\n"
   ]
  },
  {
   "cell_type": "markdown",
   "metadata": {},
   "source": [
    "Import necessary libraries:"
   ]
  },
  {
   "cell_type": "code",
   "execution_count": 2,
   "metadata": {},
   "outputs": [],
   "source": [
    "import pandas as pd\n",
    "import numpy as np\n",
    "import geopandas"
   ]
  },
  {
   "cell_type": "markdown",
   "metadata": {},
   "source": [
    "Load the datasets"
   ]
  },
  {
   "cell_type": "code",
   "execution_count": 18,
   "metadata": {},
   "outputs": [],
   "source": [
    "hospitals_data = pd.read_csv('data-hospitallocations.csv')\n",
    "primary_care_data = pd.read_csv('data-primary-care-access-facilities.csv')"
   ]
  },
  {
   "cell_type": "code",
   "execution_count": 19,
   "metadata": {},
   "outputs": [
    {
     "name": "stdout",
     "output_type": "stream",
     "text": [
      "           Facility                                      Address          Y  \\\n",
      "0  UPMC Children's         4401 Penn Avenue Pittsburgh, PA 15224  40.467315   \n",
      "1        UPMC Magee      300 Halkett Street Pittsburgh, PA 15213  40.436889   \n",
      "2   UPMC McKeesport         1500 5th Avenue McKeesport, PA 15132  40.351343   \n",
      "3        UPMC Mercy      1400 Locust Street Pittsburgh, PA 15219  40.436137   \n",
      "4    UPMC Passavant  9100 Babcock Boulevard Pittsburgh, PA 15237  40.573319   \n",
      "\n",
      "           X  \n",
      "0 -79.953590  \n",
      "1 -79.960700  \n",
      "2 -79.849457  \n",
      "3 -79.985285  \n",
      "4 -80.014525  \n",
      "                                 GROUP_NAME              PRACTICE_ADDR_1  \\\n",
      "0                  Picciotti, Isabella M MD           1 Allegheny Square   \n",
      "1               UPMC Emergency Medicine Inc   1 Childrens Hospital Drive   \n",
      "2              Hoover Medical Associates PC             100 Delafield Rd   \n",
      "3  Partners in Nephrology and Endocrinology           100 Delafield Road   \n",
      "4                   Bahl and Bahl Med Assoc  100 Delafield Road, Ste 103   \n",
      "\n",
      "     PRACTICE_ADDR_2 PRACTICE_CITY PRACTICE_STATE  PRACTICE_ZIP   Latitude  \\\n",
      "0                NaN    Pittsburgh             PA         15212  40.451948   \n",
      "1   4401 Penn Avenue    Pittsburgh             PA         15224  40.467315   \n",
      "2          Suite 312    Pittsburgh             PA         15215  40.490244   \n",
      "3  100 MAB Suite 212    Pittsburgh             PA         15215  40.506845   \n",
      "4                NaN    Pittsburgh             PA         15215  40.490244   \n",
      "\n",
      "   Longitude  \n",
      "0 -80.004895  \n",
      "1 -79.953590  \n",
      "2 -79.895719  \n",
      "3 -79.908076  \n",
      "4 -79.895719  \n"
     ]
    }
   ],
   "source": [
    "print(hospitals_data.head())\n",
    "print(primary_care_data.head())"
   ]
  },
  {
   "cell_type": "code",
   "execution_count": null,
   "metadata": {},
   "outputs": [],
   "source": []
  }
 ],
 "metadata": {
  "kernelspec": {
   "display_name": "Python 3",
   "language": "python",
   "name": "python3"
  },
  "language_info": {
   "codemirror_mode": {
    "name": "ipython",
    "version": 3
   },
   "file_extension": ".py",
   "mimetype": "text/x-python",
   "name": "python",
   "nbconvert_exporter": "python",
   "pygments_lexer": "ipython3",
   "version": "3.8.3"
  }
 },
 "nbformat": 4,
 "nbformat_minor": 4
}

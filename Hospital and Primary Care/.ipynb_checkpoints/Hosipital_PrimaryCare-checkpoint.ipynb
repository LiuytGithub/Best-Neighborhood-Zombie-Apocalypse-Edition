{
 "cells": [
  {
   "cell_type": "markdown",
   "metadata": {},
   "source": [
    "Import necessary libraries:"
   ]
  },
  {
   "cell_type": "code",
   "execution_count": 18,
   "metadata": {},
   "outputs": [],
   "source": [
    "import pandas as pd"
   ]
  },
  {
   "cell_type": "markdown",
   "metadata": {},
   "source": [
    "Load the datasets:"
   ]
  },
  {
   "cell_type": "code",
   "execution_count": 19,
   "metadata": {},
   "outputs": [],
   "source": [
    "pitts = pd.read_csv('pittsburgh_neighborhoods.csv')\n",
    "hospi = pd.read_csv('pittsburgh_hospitals.csv')\n",
    "pri_care = pd.read_csv('pittsburgh_primary_care.csv')"
   ]
  },
  {
   "cell_type": "code",
   "execution_count": 20,
   "metadata": {},
   "outputs": [
    {
     "data": {
      "text/html": [
       "<div>\n",
       "<style scoped>\n",
       "    .dataframe tbody tr th:only-of-type {\n",
       "        vertical-align: middle;\n",
       "    }\n",
       "\n",
       "    .dataframe tbody tr th {\n",
       "        vertical-align: top;\n",
       "    }\n",
       "\n",
       "    .dataframe thead th {\n",
       "        text-align: right;\n",
       "    }\n",
       "</style>\n",
       "<table border=\"1\" class=\"dataframe\">\n",
       "  <thead>\n",
       "    <tr style=\"text-align: right;\">\n",
       "      <th></th>\n",
       "      <th>Facility</th>\n",
       "      <th>ZIP</th>\n",
       "      <th>Latitude</th>\n",
       "      <th>Longitude</th>\n",
       "    </tr>\n",
       "  </thead>\n",
       "  <tbody>\n",
       "    <tr>\n",
       "      <th>0</th>\n",
       "      <td>UPMC Children's</td>\n",
       "      <td>15224</td>\n",
       "      <td>40.467315</td>\n",
       "      <td>-79.953590</td>\n",
       "    </tr>\n",
       "    <tr>\n",
       "      <th>1</th>\n",
       "      <td>UPMC Magee</td>\n",
       "      <td>15213</td>\n",
       "      <td>40.436889</td>\n",
       "      <td>-79.960700</td>\n",
       "    </tr>\n",
       "    <tr>\n",
       "      <th>2</th>\n",
       "      <td>UPMC McKeesport</td>\n",
       "      <td>15132</td>\n",
       "      <td>40.351343</td>\n",
       "      <td>-79.849457</td>\n",
       "    </tr>\n",
       "    <tr>\n",
       "      <th>3</th>\n",
       "      <td>UPMC Mercy</td>\n",
       "      <td>15219</td>\n",
       "      <td>40.436137</td>\n",
       "      <td>-79.985285</td>\n",
       "    </tr>\n",
       "    <tr>\n",
       "      <th>4</th>\n",
       "      <td>UPMC Passavant</td>\n",
       "      <td>15237</td>\n",
       "      <td>40.573319</td>\n",
       "      <td>-80.014525</td>\n",
       "    </tr>\n",
       "    <tr>\n",
       "      <th>5</th>\n",
       "      <td>UPMC Presbyterian</td>\n",
       "      <td>15213</td>\n",
       "      <td>40.441544</td>\n",
       "      <td>-79.959356</td>\n",
       "    </tr>\n",
       "    <tr>\n",
       "      <th>6</th>\n",
       "      <td>UPMC Shadyside</td>\n",
       "      <td>15232</td>\n",
       "      <td>40.454845</td>\n",
       "      <td>-79.939793</td>\n",
       "    </tr>\n",
       "    <tr>\n",
       "      <th>7</th>\n",
       "      <td>UPMC St. Margaret's</td>\n",
       "      <td>15215</td>\n",
       "      <td>40.489286</td>\n",
       "      <td>-79.895994</td>\n",
       "    </tr>\n",
       "    <tr>\n",
       "      <th>8</th>\n",
       "      <td>UPMC East</td>\n",
       "      <td>15146</td>\n",
       "      <td>40.436561</td>\n",
       "      <td>-79.760197</td>\n",
       "    </tr>\n",
       "    <tr>\n",
       "      <th>9</th>\n",
       "      <td>Allegheny General Hospital</td>\n",
       "      <td>15212</td>\n",
       "      <td>40.457010</td>\n",
       "      <td>-80.003724</td>\n",
       "    </tr>\n",
       "  </tbody>\n",
       "</table>\n",
       "</div>"
      ],
      "text/plain": [
       "                     Facility    ZIP   Latitude  Longitude\n",
       "0            UPMC Children's   15224  40.467315 -79.953590\n",
       "1                  UPMC Magee  15213  40.436889 -79.960700\n",
       "2             UPMC McKeesport  15132  40.351343 -79.849457\n",
       "3                  UPMC Mercy  15219  40.436137 -79.985285\n",
       "4              UPMC Passavant  15237  40.573319 -80.014525\n",
       "5           UPMC Presbyterian  15213  40.441544 -79.959356\n",
       "6              UPMC Shadyside  15232  40.454845 -79.939793\n",
       "7         UPMC St. Margaret's  15215  40.489286 -79.895994\n",
       "8                   UPMC East  15146  40.436561 -79.760197\n",
       "9  Allegheny General Hospital  15212  40.457010 -80.003724"
      ]
     },
     "execution_count": 20,
     "metadata": {},
     "output_type": "execute_result"
    }
   ],
   "source": [
    "hospi.head(10)"
   ]
  },
  {
   "cell_type": "code",
   "execution_count": 21,
   "metadata": {},
   "outputs": [
    {
     "data": {
      "text/html": [
       "<div>\n",
       "<style scoped>\n",
       "    .dataframe tbody tr th:only-of-type {\n",
       "        vertical-align: middle;\n",
       "    }\n",
       "\n",
       "    .dataframe tbody tr th {\n",
       "        vertical-align: top;\n",
       "    }\n",
       "\n",
       "    .dataframe thead th {\n",
       "        text-align: right;\n",
       "    }\n",
       "</style>\n",
       "<table border=\"1\" class=\"dataframe\">\n",
       "  <thead>\n",
       "    <tr style=\"text-align: right;\">\n",
       "      <th></th>\n",
       "      <th>GROUP_NAME</th>\n",
       "      <th>PRACTICE_ADDR_1</th>\n",
       "      <th>PRACTICE_ADDR_2</th>\n",
       "      <th>PRACTICE_CITY</th>\n",
       "      <th>PRACTICE_STATE</th>\n",
       "      <th>PRACTICE_ZIP</th>\n",
       "      <th>Latitude</th>\n",
       "      <th>Longitude</th>\n",
       "    </tr>\n",
       "  </thead>\n",
       "  <tbody>\n",
       "    <tr>\n",
       "      <th>0</th>\n",
       "      <td>Picciotti, Isabella M MD</td>\n",
       "      <td>1 Allegheny Square</td>\n",
       "      <td>NaN</td>\n",
       "      <td>Pittsburgh</td>\n",
       "      <td>PA</td>\n",
       "      <td>15212</td>\n",
       "      <td>40.451948</td>\n",
       "      <td>-80.004895</td>\n",
       "    </tr>\n",
       "    <tr>\n",
       "      <th>1</th>\n",
       "      <td>UPMC Emergency Medicine Inc</td>\n",
       "      <td>1 Childrens Hospital Drive</td>\n",
       "      <td>4401 Penn Avenue</td>\n",
       "      <td>Pittsburgh</td>\n",
       "      <td>PA</td>\n",
       "      <td>15224</td>\n",
       "      <td>40.467315</td>\n",
       "      <td>-79.953590</td>\n",
       "    </tr>\n",
       "    <tr>\n",
       "      <th>2</th>\n",
       "      <td>Hoover Medical Associates PC</td>\n",
       "      <td>100 Delafield Rd</td>\n",
       "      <td>Suite 312</td>\n",
       "      <td>Pittsburgh</td>\n",
       "      <td>PA</td>\n",
       "      <td>15215</td>\n",
       "      <td>40.490244</td>\n",
       "      <td>-79.895719</td>\n",
       "    </tr>\n",
       "    <tr>\n",
       "      <th>3</th>\n",
       "      <td>Partners in Nephrology and Endocrinology</td>\n",
       "      <td>100 Delafield Road</td>\n",
       "      <td>100 MAB Suite 212</td>\n",
       "      <td>Pittsburgh</td>\n",
       "      <td>PA</td>\n",
       "      <td>15215</td>\n",
       "      <td>40.506845</td>\n",
       "      <td>-79.908076</td>\n",
       "    </tr>\n",
       "    <tr>\n",
       "      <th>4</th>\n",
       "      <td>Bahl and Bahl Med Assoc</td>\n",
       "      <td>100 Delafield Road, Ste 103</td>\n",
       "      <td>NaN</td>\n",
       "      <td>Pittsburgh</td>\n",
       "      <td>PA</td>\n",
       "      <td>15215</td>\n",
       "      <td>40.490244</td>\n",
       "      <td>-79.895719</td>\n",
       "    </tr>\n",
       "    <tr>\n",
       "      <th>5</th>\n",
       "      <td>Zioncheck, Roger MD PC</td>\n",
       "      <td>100 Eighth Ave</td>\n",
       "      <td>NaN</td>\n",
       "      <td>McKeesport</td>\n",
       "      <td>PA</td>\n",
       "      <td>15132</td>\n",
       "      <td>40.347704</td>\n",
       "      <td>-79.866961</td>\n",
       "    </tr>\n",
       "    <tr>\n",
       "      <th>6</th>\n",
       "      <td>Premier Medical Associates CRNP</td>\n",
       "      <td>100 Forest Hills Plaza</td>\n",
       "      <td>NaN</td>\n",
       "      <td>Pittsburgh</td>\n",
       "      <td>PA</td>\n",
       "      <td>15221</td>\n",
       "      <td>40.435067</td>\n",
       "      <td>-79.861938</td>\n",
       "    </tr>\n",
       "    <tr>\n",
       "      <th>7</th>\n",
       "      <td>Heritage Valley Convenient Care Retail</td>\n",
       "      <td>100 Hazel Lane</td>\n",
       "      <td>NaN</td>\n",
       "      <td>Sewickley</td>\n",
       "      <td>PA</td>\n",
       "      <td>15143</td>\n",
       "      <td>40.542415</td>\n",
       "      <td>-80.192742</td>\n",
       "    </tr>\n",
       "    <tr>\n",
       "      <th>8</th>\n",
       "      <td>Zioncheck, Roger MD PC</td>\n",
       "      <td>100 Ninth Ave</td>\n",
       "      <td>NaN</td>\n",
       "      <td>McKeesport</td>\n",
       "      <td>PA</td>\n",
       "      <td>15132</td>\n",
       "      <td>40.347396</td>\n",
       "      <td>-79.867398</td>\n",
       "    </tr>\n",
       "    <tr>\n",
       "      <th>9</th>\n",
       "      <td>University of Pittsburgh Physicians</td>\n",
       "      <td>100 North Bellfield</td>\n",
       "      <td>NaN</td>\n",
       "      <td>Pittsburgh</td>\n",
       "      <td>PA</td>\n",
       "      <td>15213</td>\n",
       "      <td>40.447147</td>\n",
       "      <td>-79.951826</td>\n",
       "    </tr>\n",
       "  </tbody>\n",
       "</table>\n",
       "</div>"
      ],
      "text/plain": [
       "                                 GROUP_NAME              PRACTICE_ADDR_1  \\\n",
       "0                  Picciotti, Isabella M MD           1 Allegheny Square   \n",
       "1               UPMC Emergency Medicine Inc   1 Childrens Hospital Drive   \n",
       "2              Hoover Medical Associates PC             100 Delafield Rd   \n",
       "3  Partners in Nephrology and Endocrinology           100 Delafield Road   \n",
       "4                   Bahl and Bahl Med Assoc  100 Delafield Road, Ste 103   \n",
       "5                    Zioncheck, Roger MD PC               100 Eighth Ave   \n",
       "6           Premier Medical Associates CRNP       100 Forest Hills Plaza   \n",
       "7    Heritage Valley Convenient Care Retail               100 Hazel Lane   \n",
       "8                    Zioncheck, Roger MD PC                100 Ninth Ave   \n",
       "9       University of Pittsburgh Physicians          100 North Bellfield   \n",
       "\n",
       "     PRACTICE_ADDR_2 PRACTICE_CITY PRACTICE_STATE  PRACTICE_ZIP   Latitude  \\\n",
       "0                NaN    Pittsburgh             PA         15212  40.451948   \n",
       "1   4401 Penn Avenue    Pittsburgh             PA         15224  40.467315   \n",
       "2          Suite 312    Pittsburgh             PA         15215  40.490244   \n",
       "3  100 MAB Suite 212    Pittsburgh             PA         15215  40.506845   \n",
       "4                NaN    Pittsburgh             PA         15215  40.490244   \n",
       "5                NaN    McKeesport             PA         15132  40.347704   \n",
       "6                NaN    Pittsburgh             PA         15221  40.435067   \n",
       "7                NaN     Sewickley             PA         15143  40.542415   \n",
       "8                NaN    McKeesport             PA         15132  40.347396   \n",
       "9                NaN    Pittsburgh             PA         15213  40.447147   \n",
       "\n",
       "   Longitude  \n",
       "0 -80.004895  \n",
       "1 -79.953590  \n",
       "2 -79.895719  \n",
       "3 -79.908076  \n",
       "4 -79.895719  \n",
       "5 -79.866961  \n",
       "6 -79.861938  \n",
       "7 -80.192742  \n",
       "8 -79.867398  \n",
       "9 -79.951826  "
      ]
     },
     "execution_count": 21,
     "metadata": {},
     "output_type": "execute_result"
    }
   ],
   "source": [
    "pri_care.head(10)"
   ]
  },
  {
   "cell_type": "markdown",
   "metadata": {},
   "source": [
    "Initialize dictionaries:\n",
    "\n",
    "Three dictionaries are initialized: 'hospitals_count', 'primary_care_count', and 'total_health_facilities_count' to store the counts of hospitals, primary care facilities, and total health facilities in each neighborhood, respectively."
   ]
  },
  {
   "cell_type": "code",
   "execution_count": 22,
   "metadata": {},
   "outputs": [],
   "source": [
    "#because the data has the zip code rather than the neighborhoods, let's use a dictionary to map zip code to neighborhood\n",
    "#Note: some zip codes map to more than one neighborhood\n",
    "\n",
    "zipdict = {15201: [\"LAWRENCEVILLE\",  \"STANTON HEIGHTS\"], 15203: [\"SOUTHSIDE\"], 15206: [\"EAST LIBERTY\", \"MORNINGSIDE\", \"EAST END\"], 15207: [\"HAZELWOOD\", \"GREENFIELD\", \"GLENWOOD\", \"GLEN HAZEL\", \"HAYS\", \"LINCOLN PL\"], 15208: [\"HOMEWOOD\", \"BRUSHTON\", \"EAST END\", \"POINT BREEZE\"], \n",
    "           15210: [\"MT WASHINGTON\", \"DUQUESNE HEIGHTS\"], 15213: [\"OAKLAND\", \"BELLEFIELD\"], 15217: [\"SQUIRREL HILL\", \"GREENFIELD\", \"BROWNS HILL\"], 15219: [\"UPTOWN\", \"HERRON HILL\", \"SCHENLEY HEIGHTS\"], 15222: [\"DOWNTOWN\"], 15224: [\"BLOOMFIELD\", \"GARFIELD\"], 15226: [\"BROOKLINE\", \"OVERBROOK\"],\n",
    "           15230: [\"VETERAN’S HOSPITAL\"], 15260: [\"THE UNIVERSITY OF PITTSBURGH\"], 15282: [\"DUQUESNE UNIVERSITY\"]}"
   ]
  },
  {
   "cell_type": "markdown",
   "metadata": {},
   "source": [
    "Count the hospitals and update dictionaries:\n",
    "\n",
    "The program iterates through the 'hospi' data frame, extracts the zip code from the 'ZIP' column, and updates the 'hospitals_count' and 'total_health_facilities_count' dictionaries for each neighborhood.\n",
    "Count the primary care facilities and update dictionaries:\n",
    "\n",
    "The program iterates through the 'pri_care' data frame, extracts the zip code from the 'PRACTICE_ZIP' column, and updates the 'primary_care_count' and 'total_health_facilities_count' dictionaries for each neighborhood.\n",
    "Print the results:\n",
    "\n",
    "Finally, the program iterates through the zip codes in the 'zipdict' dictionary and prints the counts of hospitals, primary care facilities, and total health facilities for each neighborhood. It also prints the neighborhood's population from the 'neighPop' dictionary."
   ]
  },
  {
   "cell_type": "code",
   "execution_count": 54,
   "metadata": {},
   "outputs": [
    {
     "name": "stdout",
     "output_type": "stream",
     "text": [
      "{'BLOOMFIELD': 2, 'GARFIELD': 2, 'OAKLAND': 2, 'BELLEFIELD': 2, 'UPTOWN': 1, 'HERRON HILL': 1, 'SCHENLEY HEIGHTS': 1}\n",
      "{'BLOOMFIELD': 18, 'GARFIELD': 18, 'OAKLAND': 47, 'BELLEFIELD': 47, 'UPTOWN': 10, 'HERRON HILL': 10, 'SCHENLEY HEIGHTS': 10, 'SOUTHSIDE': 14, 'BROOKLINE': 5, 'OVERBROOK': 5, 'DOWNTOWN': 13, 'EAST LIBERTY': 15, 'MORNINGSIDE': 15, 'EAST END': 18, 'SQUIRREL HILL': 15, 'GREENFIELD': 19, 'BROWNS HILL': 15, 'MT WASHINGTON': 6, 'DUQUESNE HEIGHTS': 6, 'LAWRENCEVILLE': 4, 'STANTON HEIGHTS': 4, 'HOMEWOOD': 3, 'BRUSHTON': 3, 'POINT BREEZE': 3, 'HAZELWOOD': 4, 'GLENWOOD': 4, 'GLEN HAZEL': 4, 'HAYS': 4, 'LINCOLN PL': 4}\n"
     ]
    }
   ],
   "source": [
    "# make dictionaries that will keep track of how many hospitals and primary care facilities respectively there are in each neighborhood\n",
    "hospitals = {}\n",
    "primary_care = {}\n",
    "\n",
    "for index, row in hospi.iterrows():\n",
    "    try:\n",
    "        zip_code = int(row['ZIP'])\n",
    "        if zip_code in zipdict:\n",
    "            for neighborhood in zipdict[zip_code]:\n",
    "                if neighborhood in hospitals:\n",
    "                    hospitals[neighborhood] += 1\n",
    "                else:\n",
    "                    hospitals[neighborhood] = 1\n",
    "    except:\n",
    "        continue\n",
    "\n",
    "for index, row in pri_care.iterrows():\n",
    "    try:\n",
    "        zip_code = int(row['PRACTICE_ZIP'])\n",
    "        if zip_code in zipdict:\n",
    "            for neighborhood in zipdict[zip_code]:\n",
    "                if neighborhood in primary_care:\n",
    "                    primary_care[neighborhood] += 1\n",
    "                else:\n",
    "                    primary_care[neighborhood] = 1\n",
    "    except:\n",
    "        continue\n",
    "\n",
    "# print the counts for hospitals and primary care facilities in each neighborhood\n",
    "print(hospitals)\n",
    "print(primary_care)"
   ]
  },
  {
   "cell_type": "code",
   "execution_count": 58,
   "metadata": {},
   "outputs": [
    {
     "data": {
      "image/png": "[encoded data removed]",
      "text/plain": [
       "<Figure size 576x432 with 1 Axes>"
      ]
     },
     "metadata": {
      "needs_background": "light"
     },
     "output_type": "display_data"
    }
   ],
   "source": [
    "import matplotlib.pyplot as plt\n",
    "\n",
    "# sort neighborhoods by hospital count in descending order\n",
    "sorted_hospitals = {k: v for k, v in sorted(hospitals.items(), key=lambda item: item[1], reverse=True)}\n",
    "\n",
    "# create bar plot for hospital counts\n",
    "plt.figure(figsize=(8, 6))\n",
    "plt.bar(sorted_hospitals.keys(), sorted_hospitals.values())\n",
    "plt.xticks(rotation=90)\n",
    "plt.title('Hospital Counts by Neighborhood')\n",
    "plt.ylabel('Count')\n",
    "plt.tight_layout()\n",
    "plt.show()"
   ]
  },
  {
   "cell_type": "code",
   "execution_count": 59,
   "metadata": {},
   "outputs": [
    {
     "data": {
      "image/png": "[encoded data removed]",
      "text/plain": [
       "<Figure size 864x432 with 1 Axes>"
      ]
     },
     "metadata": {
      "needs_background": "light"
     },
     "output_type": "display_data"
    }
   ],
   "source": [
    "# sort neighborhoods by primary care count in descending order\n",
    "sorted_primary_care = {k: v for k, v in sorted(primary_care.items(), key=lambda item: item[1], reverse=True)}\n",
    "\n",
    "# create bar plot for primary care counts\n",
    "plt.figure(figsize=(12, 6))\n",
    "plt.bar(sorted_primary_care.keys(), sorted_primary_care.values())\n",
    "plt.xticks(rotation=90)\n",
    "plt.title('Primary Care Counts by Neighborhood')\n",
    "plt.ylabel('Count')\n",
    "plt.tight_layout()\n",
    "plt.show()"
   ]
  }
 ],
 "metadata": {
  "kernelspec": {
   "display_name": "Python 3",
   "language": "python",
   "name": "python3"
  },
  "language_info": {
   "codemirror_mode": {
    "name": "ipython",
    "version": 3
   },
   "file_extension": ".py",
   "mimetype": "text/x-python",
   "name": "python",
   "nbconvert_exporter": "python",
   "pygments_lexer": "ipython3",
   "version": "3.8.3"
  }
 },
 "nbformat": 4,
 "nbformat_minor": 4
}

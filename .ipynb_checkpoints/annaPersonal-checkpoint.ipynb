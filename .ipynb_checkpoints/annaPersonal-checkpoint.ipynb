{
 "cells": [
  {
   "cell_type": "code",
   "execution_count": 1,
   "metadata": {},
   "outputs": [],
   "source": [
    "import pandas as pd\n",
    "import numpy as np\n",
    "%matplotlib inline\n",
    "import matplotlib.pyplot as plt"
   ]
  },
  {
   "cell_type": "code",
   "execution_count": 10,
   "metadata": {},
   "outputs": [
    {
     "name": "stdout",
     "output_type": "stream",
     "text": [
      "{'Allegheny Center': 1419, 'Allegheny West': 540, 'Allentown': 2305, 'Arlington - Arlington Heights (Combined)': 2040, 'Banksville': 4127, 'Bedford Dwellings': 1386, 'Beechview': 7596, 'Beltzhoover': 1604, 'Bloomfield': 8665, 'Bluff': 5882, 'Bon Air': 759, 'Brighton Heights': 7105, 'Brookline': 13063, 'California-Kirkbride': 709, 'Carrick': 10290, 'Central Business District (Downtown)': 5477, 'Central Lawrenceville': 4720, 'Central Northside': 2972, 'Central Oakland': 5835, 'Chartiers City': 492, 'Chateau': 19, 'Crafton Heights': 3999, 'Crawford-Roberts': 2293, 'Duquesne Heights': 2397, 'East Allegheny': 1903, 'East Carnegie': 491, 'East Hills': 2892, 'East Liberty': 6187, 'Elliott': 2193, 'Esplen': 322, 'Fairywood': 1092, 'Fineview': 1140, 'Friendship': 1963, 'Garfield': 3643, 'Glen Hazel': 659, 'Greenfield': 7261, 'Hays': 321, 'Hazelwood': 3889, 'Highland Park': 6235, 'Homewood North': 2617, 'Homewood South': 2260, 'Homewood West': 642, 'Knoxville': 3493, 'Larimer': 1545, 'Lincoln Place': 3155, 'Lincoln-Lemington-Belmar': 3636, 'Lower Lawrenceville': 2641, 'Manchester': 2031, 'Marshall-Shadeland': 4046, 'Middle Hill': 1757, 'Morningside': 3252, 'Mount Washington': 8710, 'Mt. Oliver': 443, 'New Homestead': 917, 'North Oakland': 10691, 'North Shore': 301, 'Northview Heights': 1769, 'Oakwood': 1025, 'Overbrook': 3483, 'Perry North': 3758, 'Perry South': 3765, 'Point Breeze': 5348, 'Point Breeze North': 1988, 'Polish Hill': 1201, 'Regent Square': 971, 'Ridgemont': 390, 'Shadyside': 15317, 'Sheraden': 5147, 'South Oakland': 3329, 'South Shore': 29, 'South Side Flats': 7467, 'South Side Slopes': 4327, 'Spring Garden': 786, 'Spring Hill-City': 2364, 'Squirrel Hill North': 11879, 'Squirrel Hill South': 15317, 'St. Clair': 183, 'Stanton Heights': 4427, 'Strip District': 1845, 'Summer Hill': 998, 'Swisshelm Park': 1339, 'Terrace Village': 2320, 'Troy Hill': 2645, 'Upper Hill': 1723, 'Upper Lawrenceville': 2394, 'West End': 205, 'West Oakland': 2534, 'Westwood': 3332, 'Windgap': 1344}\n",
      "0\n"
     ]
    }
   ],
   "source": [
    "# first i will investigate the population density of each neighborhood in Pittsburgh\n",
    "# need to calculate population/square footage\n",
    "population = pd.read_csv(\"pghPopulation2020.csv\")\n",
    "population.head(20)\n",
    "\n",
    "# iterate through csv and get 2020 population for each neighbohood\n",
    "# create dictionary w/ neighborhood: population format\n",
    "neighPop = dict()\n",
    "for nhood, row in population.iterrows():\n",
    "    neighPop[row[\"Neighborhood\"]] = row[\"2020_Total_Population\"]\n",
    "    \n",
    "print(neighPop)"
   ]
  },
  {
   "cell_type": "code",
   "execution_count": null,
   "metadata": {},
   "outputs": [],
   "source": []
  }
 ],
 "metadata": {
  "kernelspec": {
   "display_name": "Python 3",
   "language": "python",
   "name": "python3"
  },
  "language_info": {
   "codemirror_mode": {
    "name": "ipython",
    "version": 3
   },
   "file_extension": ".py",
   "mimetype": "text/x-python",
   "name": "python",
   "nbconvert_exporter": "python",
   "pygments_lexer": "ipython3",
   "version": "3.8.3"
  }
 },
 "nbformat": 4,
 "nbformat_minor": 4
}

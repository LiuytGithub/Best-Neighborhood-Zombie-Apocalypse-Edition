{
 "cells": [
  {
   "cell_type": "markdown",
   "metadata": {},
   "source": [
<<<<<<< HEAD
    "# WARNING: The following presentation contains graphic depictions of zombies  \n",
    "## **ALERT:** A (hypothetical) zombie outbreak has seized Pittsburgh!!! \n",
    "What do you do?? Where do you go?? We got you-- let's find out the best neighborhood in Pittsburgh to hunker down and survive..."
=======
    "# The Best Neighborhood to Survive an Apocalpyse"
>>>>>>> fdb28adc188bc972fc8714c1878a4fd410da70f3
   ]
  }
 ],
 "metadata": {
  "kernelspec": {
   "display_name": "Python 3",
   "language": "python",
   "name": "python3"
  },
  "language_info": {
   "codemirror_mode": {
    "name": "ipython",
    "version": 3
   },
   "file_extension": ".py",
   "mimetype": "text/x-python",
   "name": "python",
   "nbconvert_exporter": "python",
   "pygments_lexer": "ipython3",
   "version": "3.8.3"
  }
 },
 "nbformat": 4,
 "nbformat_minor": 4
}

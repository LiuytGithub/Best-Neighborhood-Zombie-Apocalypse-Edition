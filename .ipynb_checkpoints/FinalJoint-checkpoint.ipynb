{
 "cells": [
  {
   "cell_type": "markdown",
   "metadata": {},
   "source": [
    "# **WARNING**: The following presentation contains graphic depictions of zombies  \n",
    "## **ALERT:** A *hypothetical* zombie outbreak has seized Pittsburgh!!! \n",
    "![Zombie attack](https://media2.giphy.com/media/v1.Y2lkPTc5MGI3NjExMTI2ZmI3NWY3ZGU1MTIzZWQ2NDcwODYxYzNhODRkNTg0N2M4MmY0OSZlcD12MV9pbnRlcm5hbF9naWZzX2dpZklkJmN0PWc/V3zHRAZGp7Qo8/giphy.gif)  \n",
    "********************************************\n",
    "\n",
    "### *AHHHHHHHHHHHHHHHHHH!!!* You're done screaming, but now you may be thinking...\n",
    "* What do I do??  \n",
    "* Where do I go??  \n",
    "* How will I survive??  \n",
    "* Yay, no more schoool !!!  \n",
    "\n",
    "### Worry not, we got you! -- Let's find out the best neighborhood in Pittsburgh to hunker down and survive the **end of the world**..."
   ]
  },
  {
   "cell_type": "markdown",
   "metadata": {},
   "source": [
    "*******************\n",
    "# **Introduction:**\n",
    "Our project takes on a more goofy and cheeky approach the best neighborhood concept. We wanted to have as much fun as possible (for a final project haha), and after throwing around a few ideas, we ended on **ZOMBIES**. When consider what approach to take and what aspects we wanted to quantify for best neighborhood, we decided upon:\n",
    "* access to food  \n",
    "* access to medical supplies\n",
    "* population density\n",
    "\n",
    "as some of the most important factors to survival. Food is obviously crucial for stamina and the upkeep of one's health and energy. Medical supplies are important for tending to wounds and keeping infections at bay. And finally, while we cannot get out of the city, we would like to reduce the number of individuals around us for safety reasons. In the brainstorming process, we considered looking into:\n",
    "* access to greenspace\n",
    "* proximity to water\n",
    "\n",
    "In the end, we found that the features we chose to explore were a good reflection of the best traits a neighborhood could have for apocalyptic survival"
   ]
  },
  {
   "cell_type": "markdown",
   "metadata": {},
   "source": [
    "**************\n",
    "# **The Metric**: Best Neighborhood for Surviving a Zombie Apocalyse\n",
    "## *Features Measured:*\n",
    "### Population Density\n",
    "The less people around, the less potential zombies you have to kill off\n",
    "### Best Access to Supermarkets + convenience stores\n",
    "The ideal neighborhood has the **fewest** people per food source, so that competition for food access is reduced. *Can't fight zombies on an empty stomach*\n",
    "### Best Access to Hospitals\n",
    "The ideal neighborhood has the **fewest** people per hospital, so that that competition for medical supplies is reduced *Taking care of battle wounds is critical for survival*\n",
    "\n",
    "## *Data Sets Utilized:*\n",
    "### Population Density\n",
    "[Pittsburgh Neighborhoods](https://data.wprdc.org/dataset/neighborhoods2)  \n",
    "[City of Pittsburgh Neighborhood Population 2020](https://data.wprdc.org/dataset/2020-census-redistricting-data-extracts)  \n",
    "### Best Access to Supermarkets + convenience stores\n",
    "[Allegheny County Supermarkets & Convenience Stores](https://data.wprdc.org/dataset/allegheny-county-supermarkets-convenience-stores/resource/626357fa-c95d-465f-9a02-3121655b2b78?view_id=a6bdfc00-061c-4586-a7c2-008a0528fa9b)  \n",
    "### Best Access to Hospitals\n",
    "[Allegheny County Hospitals](https://data.wprdc.org/dataset/hospitals)\n",
    "[Allegheny County Primary Care Access](https://data.wprdc.org/dataset/allegheny-county-primary-care-facilities)\n",
    "********************************** \n"
   ]
  },
  {
   "cell_type": "markdown",
   "metadata": {},
   "source": [
    "# Population Density\n",
    "The first step to calculating population density was acquiring the population from each "
   ]
  },
  {
   "cell_type": "markdown",
   "metadata": {},
   "source": [
    "************************"
   ]
  },
  {
   "cell_type": "markdown",
   "metadata": {},
   "source": [
    "# Number of People per (Convenience Stores + Supermarkets)"
   ]
  },
  {
   "cell_type": "code",
   "execution_count": 18,
   "metadata": {},
   "outputs": [
    {
     "name": "stdout",
     "output_type": "stream",
     "text": [
      "{'Allegheny Center': 1419, 'Allegheny West': 540, 'Allentown': 2305, 'Arlington - Arlington Heights (Combined)': 2040, 'Banksville': 4127, 'Bedford Dwellings': 1386, 'Beechview': 7596, 'Beltzhoover': 1604, 'Bloomfield': 8665, 'Bluff': 5882, 'Bon Air': 759, 'Brighton Heights': 7105, 'Brookline': 13063, 'California-Kirkbride': 709, 'Carrick': 10290, 'Central Business District (Downtown)': 5477, 'Central Lawrenceville': 4720, 'Central Northside': 2972, 'Central Oakland': 5835, 'Chartiers City': 492, 'Chateau': 19, 'Crafton Heights': 3999, 'Crawford-Roberts': 2293, 'Duquesne Heights': 2397, 'East Allegheny': 1903, 'East Carnegie': 491, 'East Hills': 2892, 'East Liberty': 6187, 'Elliott': 2193, 'Esplen': 322, 'Fairywood': 1092, 'Fineview': 1140, 'Friendship': 1963, 'Garfield': 3643, 'Glen Hazel': 659, 'Greenfield': 7261, 'Hays': 321, 'Hazelwood': 3889, 'Highland Park': 6235, 'Homewood North': 2617, 'Homewood South': 2260, 'Homewood West': 642, 'Knoxville': 3493, 'Larimer': 1545, 'Lincoln Place': 3155, 'Lincoln-Lemington-Belmar': 3636, 'Lower Lawrenceville': 2641, 'Manchester': 2031, 'Marshall-Shadeland': 4046, 'Middle Hill': 1757, 'Morningside': 3252, 'Mount Washington': 8710, 'Mt. Oliver': 443, 'New Homestead': 917, 'North Oakland': 10691, 'North Shore': 301, 'Northview Heights': 1769, 'Oakwood': 1025, 'Overbrook': 3483, 'Perry North': 3758, 'Perry South': 3765, 'Point Breeze': 5348, 'Point Breeze North': 1988, 'Polish Hill': 1201, 'Regent Square': 971, 'Ridgemont': 390, 'Shadyside': 15317, 'Sheraden': 5147, 'South Oakland': 3329, 'South Shore': 29, 'South Side Flats': 7467, 'South Side Slopes': 4327, 'Spring Garden': 786, 'Spring Hill-City': 2364, 'Squirrel Hill North': 11879, 'Squirrel Hill South': 15317, 'St. Clair': 183, 'Stanton Heights': 4427, 'Strip District': 1845, 'Summer Hill': 998, 'Swisshelm Park': 1339, 'Terrace Village': 2320, 'Troy Hill': 2645, 'Upper Hill': 1723, 'Upper Lawrenceville': 2394, 'West End': 205, 'West Oakland': 2534, 'Westwood': 3332, 'Windgap': 1344}\n"
     ]
    }
   ],
   "source": [
    "import pandas as pd\n",
    "import matplotlib.pyplot as plt\n",
    "import numpy as np\n",
    "\n",
    "#using the population density data to get the people/(convenience stores + supermarkets) metric\n",
    "population = pd.read_csv(\"pghPopulation2020.csv\")\n",
    "population.head(20)\n",
    "\n",
    "# iterate through csv and get 2020 population for each neighbohood\n",
    "# create dictionary w/ neighborhood: population format\n",
    "neighPop = dict()\n",
    "for nhood, row in population.iterrows():\n",
    "    neighPop[row[\"Neighborhood\"]] = row[\"2020_Total_Population\"]\n",
    "    \n",
    "print(neighPop)"
   ]
  },
  {
   "cell_type": "code",
<<<<<<< HEAD
   "execution_count": 19,
=======
   "execution_count": 3,
>>>>>>> c1cbe533a3d8835862e57d1158d8a29169c6a542
   "metadata": {},
   "outputs": [],
   "source": [
    "zipdict = {15201: [\"LAWRENCEVILLE\",  \"STANTON HEIGHTS\"], 15203: [\"SOUTHSIDE\"], 15206: [\"EAST LIBERTY\", \"MORNINGSIDE\", \"EAST END\"], 15207: [\"HAZELWOOD\", \"GREENFIELD\", \"GLENWOOD\", \"GLEN HAZEL\", \"HAYS\", \"LINCOLN PL\"], 15208: [\"HOMEWOOD\", \"BRUSHTON\", \"EAST END\", \"POINT BREEZE\"], \n",
    "           15210: [\"MT WASHINGTON\", \"DUQUESNE HEIGHTS\"], 15213: [\"OAKLAND\", \"BELLEFIELD\"], 15217: [\"SQUIRREL HILL\", \"GREENFIELD\", \"BROWNS HILL\"], 15219: [\"UPTOWN\", \"HERRON HILL\", \"SCHENLEY HEIGHTS\"], 15222: [\"DOWNTOWN\"], 15224: [\"BLOOMFIELD\", \"GARFIELD\"], 15226: [\"BROOKLINE\", \"OVERBROOK\"],\n",
    "           15230: [\"VETERAN’S HOSPITAL\"], 15260: [\"THE UNIVERSITY OF PITTSBURGH\"], 15282: [\"DUQUESNE UNIVERSITY\"]}"
   ]
  },
  {
   "cell_type": "code",
<<<<<<< HEAD
   "execution_count": 25,
=======
   "execution_count": 4,
>>>>>>> c1cbe533a3d8835862e57d1158d8a29169c6a542
   "metadata": {},
   "outputs": [
    {
     "name": "stdout",
     "output_type": "stream",
     "text": [
      "{'HAZELWOOD': 4, 'GREENFIELD': 15, 'GLENWOOD': 4, 'GLEN HAZEL': 4, 'HAYS': 4, 'LINCOLN PL': 4, 'DOWNTOWN': 21, 'MT WASHINGTON': 18, 'DUQUESNE HEIGHTS': 18, 'UPTOWN': 17, 'HERRON HILL': 17, 'SCHENLEY HEIGHTS': 17, 'HOMEWOOD': 6, 'BRUSHTON': 6, 'EAST END': 23, 'POINT BREEZE': 6, 'SQUIRREL HILL': 11, 'BROWNS HILL': 11, 'EAST LIBERTY': 17, 'MORNINGSIDE': 17, 'BROOKLINE': 8, 'OVERBROOK': 8, 'OAKLAND': 17, 'BELLEFIELD': 17, 'LAWRENCEVILLE': 7, 'STANTON HEIGHTS': 7, 'SOUTHSIDE': 8, 'BLOOMFIELD': 11, 'GARFIELD': 11, 'DUQUESNE UNIVERSITY': 1}\n"
     ]
    }
   ],
   "source": [
    "# combine supermarkets with convenience stores\n",
    "conv = pd.read_csv(\"convenience.csv\")\n",
    "\n",
    "comb = {}\n",
    "for row in conv['Zip']:\n",
    "    try:\n",
    "        zip_code = int(row)\n",
    "        if zip_code in zipdict:\n",
    "            for neighborhood in zipdict[zip_code]:\n",
    "                    if neighborhood in comb:\n",
    "                        comb[neighborhood] += 1\n",
    "                    else:\n",
    "                        comb[neighborhood] = 1\n",
    "                    \n",
    "    except:\n",
    "        continue\n",
    "print(comb)"
   ]
  },
  {
   "cell_type": "code",
<<<<<<< HEAD
   "execution_count": 26,
=======
   "execution_count": 5,
>>>>>>> c1cbe533a3d8835862e57d1158d8a29169c6a542
   "metadata": {},
   "outputs": [
    {
     "name": "stdout",
     "output_type": "stream",
     "text": [
      "{'Bloomfield': 787.7272727272727, 'Brookline': 1632.875, 'Duquesne Heights': 133.16666666666666, 'East Liberty': 363.94117647058823, 'Garfield': 331.1818181818182, 'Glen Hazel': 164.75, 'Greenfield': 484.06666666666666, 'Hays': 80.25, 'Hazelwood': 972.25, 'Morningside': 191.2941176470588, 'Overbrook': 435.375, 'Point Breeze': 891.3333333333334, 'Stanton Heights': 632.4285714285714}\n"
     ]
    }
   ],
   "source": [
    "#num of people divided by Convenience Stores + Supermarkets\n",
    "div = {}\n",
    "#convert to uppercase \n",
    "for key in neighPop:\n",
    "    if key.upper() in comb:\n",
    "        div[key] = (neighPop[key] / comb[key.upper()])\n",
    "        \n",
    "print(div)"
   ]
  },
  {
   "cell_type": "code",
   "execution_count": 6,
   "metadata": {},
   "outputs": [
    {
     "data": {
      "image/png": "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\n",
      "text/plain": [
       "<Figure size 864x432 with 1 Axes>"
      ]
     },
     "metadata": {
      "needs_background": "light"
     },
     "output_type": "display_data"
    }
   ],
   "source": [
    "#let's plot this out\n",
    "\n",
    "df = pd.DataFrame(list(div.items()), columns=['Neighborhood', 'Num of People per Supermarkets + Convenience Stores'])\n",
    "\n",
    "#largest to smallest\n",
    "df = df.sort_values(by='Num of People per Supermarkets + Convenience Stores', ascending=True)\n",
    "\n",
    "#bar graph\n",
    "plt.figure(figsize=(12, 6))\n",
    "plt.bar(df['Neighborhood'], df['Num of People per Supermarkets + Convenience Stores'])\n",
    "plt.xlabel('Neighborhood')\n",
    "plt.ylabel('Num of People per Supermarkets + Convenience Stores')\n",
    "plt.title('Number of People per Supermarkets + Convenience Stores in Pittsburgh Neighborhoods')\n",
    "plt.xticks(rotation=90)\n",
    "plt.yticks(np.arange(0, max(df['Num of People per Supermarkets + Convenience Stores'])+1, 100))\n",
    "plt.show()"
   ]
  },
  {
   "cell_type": "markdown",
   "metadata": {},
   "source": [
    "During a zombie apocalypse, you want the least number people per (supermarkets + convenience stores) in order to fight off less zombies while having access to more foods. So, based off of this, **Hays** is the best neighborhood! This is followed by Duquesne Heights and Glen Hazel."
   ]
  },
  {
   "cell_type": "markdown",
   "metadata": {},
   "source": [
    "*********"
   ]
  },
  {
   "cell_type": "markdown",
   "metadata": {},
   "source": [
    "# Number of People per (Hospital + Primary Care)"
   ]
  },
  {
<<<<<<< HEAD
   "cell_type": "markdown",
   "metadata": {},
   "source": [
    "##### Imports the 'pandas' library"
   ]
  },
  {
   "cell_type": "code",
   "execution_count": 9,
   "metadata": {},
   "outputs": [],
   "source": [
    "# load required libraries\n",
    "import pandas as pd"
   ]
  },
  {
   "cell_type": "markdown",
   "metadata": {},
   "source": [
    "##### Load datasets"
   ]
  },
  {
   "cell_type": "code",
   "execution_count": 10,
   "metadata": {},
   "outputs": [],
   "source": [
=======
   "cell_type": "code",
   "execution_count": 7,
   "metadata": {},
   "outputs": [
    {
     "name": "stdout",
     "output_type": "stream",
     "text": [
      "Zip Code: 15201\n",
      "Neighborhoods: ['LAWRENCEVILLE', 'STANTON HEIGHTS']\n",
      "Population: 0\n",
      "Hospitals: 0\n",
      "Primary Care Facilities: 8\n",
      "Total Health Facilities: 8\n",
      "\n",
      "Zip Code: 15203\n",
      "Neighborhoods: ['SOUTHSIDE']\n",
      "Population: 0\n",
      "Hospitals: 0\n",
      "Primary Care Facilities: 14\n",
      "Total Health Facilities: 14\n",
      "\n",
      "Zip Code: 15206\n",
      "Neighborhoods: ['EAST LIBERTY', 'MORNINGSIDE', 'EAST END']\n",
      "Population: 0\n",
      "Hospitals: 0\n",
      "Primary Care Facilities: 48\n",
      "Total Health Facilities: 48\n",
      "\n",
      "Zip Code: 15207\n",
      "Neighborhoods: ['HAZELWOOD', 'GREENFIELD', 'GLENWOOD', 'GLEN HAZEL', 'HAYS', 'LINCOLN PL']\n",
      "Population: 0\n",
      "Hospitals: 0\n",
      "Primary Care Facilities: 39\n",
      "Total Health Facilities: 39\n",
      "\n",
      "Zip Code: 15208\n",
      "Neighborhoods: ['HOMEWOOD', 'BRUSHTON', 'EAST END', 'POINT BREEZE']\n",
      "Population: 0\n",
      "Hospitals: 0\n",
      "Primary Care Facilities: 27\n",
      "Total Health Facilities: 27\n",
      "\n",
      "Zip Code: 15210\n",
      "Neighborhoods: ['MT WASHINGTON', 'DUQUESNE HEIGHTS']\n",
      "Population: 0\n",
      "Hospitals: 0\n",
      "Primary Care Facilities: 12\n",
      "Total Health Facilities: 12\n",
      "\n",
      "Zip Code: 15213\n",
      "Neighborhoods: ['OAKLAND', 'BELLEFIELD']\n",
      "Population: 0\n",
      "Hospitals: 4\n",
      "Primary Care Facilities: 94\n",
      "Total Health Facilities: 98\n",
      "\n",
      "Zip Code: 15217\n",
      "Neighborhoods: ['SQUIRREL HILL', 'GREENFIELD', 'BROWNS HILL']\n",
      "Population: 0\n",
      "Hospitals: 0\n",
      "Primary Care Facilities: 49\n",
      "Total Health Facilities: 49\n",
      "\n",
      "Zip Code: 15219\n",
      "Neighborhoods: ['UPTOWN', 'HERRON HILL', 'SCHENLEY HEIGHTS']\n",
      "Population: 0\n",
      "Hospitals: 3\n",
      "Primary Care Facilities: 30\n",
      "Total Health Facilities: 33\n",
      "\n",
      "Zip Code: 15222\n",
      "Neighborhoods: ['DOWNTOWN']\n",
      "Population: 0\n",
      "Hospitals: 0\n",
      "Primary Care Facilities: 13\n",
      "Total Health Facilities: 13\n",
      "\n",
      "Zip Code: 15224\n",
      "Neighborhoods: ['BLOOMFIELD', 'GARFIELD']\n",
      "Population: 0\n",
      "Hospitals: 4\n",
      "Primary Care Facilities: 36\n",
      "Total Health Facilities: 40\n",
      "\n",
      "Zip Code: 15226\n",
      "Neighborhoods: ['BROOKLINE', 'OVERBROOK']\n",
      "Population: 0\n",
      "Hospitals: 0\n",
      "Primary Care Facilities: 10\n",
      "Total Health Facilities: 10\n",
      "\n",
      "Zip Code: 15230\n",
      "Neighborhoods: ['VETERAN’S HOSPITAL']\n",
      "Population: 0\n",
      "Hospitals: 0\n",
      "Primary Care Facilities: 0\n",
      "Total Health Facilities: 0\n",
      "\n",
      "Zip Code: 15260\n",
      "Neighborhoods: ['THE UNIVERSITY OF PITTSBURGH']\n",
      "Population: 0\n",
      "Hospitals: 0\n",
      "Primary Care Facilities: 0\n",
      "Total Health Facilities: 0\n",
      "\n",
      "Zip Code: 15282\n",
      "Neighborhoods: ['DUQUESNE UNIVERSITY']\n",
      "Population: 0\n",
      "Hospitals: 0\n",
      "Primary Care Facilities: 0\n",
      "Total Health Facilities: 0\n",
      "\n"
     ]
    }
   ],
   "source": [
    "# load required libraries\n",
    "import pandas as pd\n",
    "\n",
>>>>>>> c1cbe533a3d8835862e57d1158d8a29169c6a542
    "# load the hospital and primary care data\n",
    "hospi = pd.read_csv('pittsburgh_hospitals.csv')\n",
    "pri_care = pd.read_csv('pittsburgh_primary_care.csv')\n",
    "\n",
    "# load the neighborhood and population data\n",
<<<<<<< HEAD
    "population = pd.read_csv('pghPopulation2020.csv')"
   ]
  },
  {
   "cell_type": "markdown",
   "metadata": {},
   "source": [
    "##### Initialize dictionaries:\n",
    "    \n",
    "    Three dictionaries are initialized: 'hospitals_count', 'primary_care_count', and 'total_health_facilities_count' to store the counts of hospitals, primary care facilities, and total health facilities in each neighborhood, respectively."
=======
    "population = pd.read_csv('pghPopulation2020.csv')\n",
    "\n",
    "# create dictionaries to store the counts of hospitals, primary care facilities, and total health facilities in each neighborhood\n",
    "hospitals_count = {}\n",
    "primary_care_count = {}\n",
    "total_health_facilities_count = {}\n",
    "\n",
    "# iterate through the 'hospi' data frame and update the 'hospitals_count' and 'total_health_facilities_count' dictionaries\n",
    "for index, row in hospi.iterrows():\n",
    "    try:\n",
    "        zip_code = int(row['ZIP'])\n",
    "        if zip_code in zipdict:\n",
    "            for neighborhood in zipdict[zip_code]:\n",
    "                if neighborhood in hospitals_count:\n",
    "                    hospitals_count[neighborhood] += 1\n",
    "                else:\n",
    "                    hospitals_count[neighborhood] = 1\n",
    "                if neighborhood in total_health_facilities_count:\n",
    "                    total_health_facilities_count[neighborhood] += 1\n",
    "                else:\n",
    "                    total_health_facilities_count[neighborhood] = 1\n",
    "    except:\n",
    "        continue\n",
    "\n",
    "# iterate through the 'pri_care' data frame and update the 'primary_care_count' and 'total_health_facilities_count' dictionaries\n",
    "for index, row in pri_care.iterrows():\n",
    "    try:\n",
    "        zip_code = int(row['PRACTICE_ZIP'])\n",
    "        if zip_code in zipdict:\n",
    "            for neighborhood in zipdict[zip_code]:\n",
    "                if neighborhood in primary_care_count:\n",
    "                    primary_care_count[neighborhood] += 1\n",
    "                else:\n",
    "                    primary_care_count[neighborhood] = 1\n",
    "                if neighborhood in total_health_facilities_count:\n",
    "                    total_health_facilities_count[neighborhood] += 1\n",
    "                else:\n",
    "                    total_health_facilities_count[neighborhood] = 1\n",
    "    except:\n",
    "        continue\n",
    "\n",
    "# print the counts of hospitals, primary care facilities, and total health facilities in each neighborhood\n",
    "for zip_code in zipdict.keys():\n",
    "    neighborhood_list = zipdict[zip_code]\n",
    "    hospitals = hospitals_count.get(neighborhood_list[0], 0)\n",
    "    primary_care = primary_care_count.get(neighborhood_list[0], 0)\n",
    "    for neighborhood in neighborhood_list[1:]:\n",
    "        hospitals += hospitals_count.get(neighborhood, 0)\n",
    "        primary_care += primary_care_count.get(neighborhood, 0)\n",
    "    total_health_facilities = hospitals + primary_care\n",
    "    population = neighPop.get(neighborhood_list[0], 0)\n",
    "    print(f\"Zip Code: {zip_code}\")\n",
    "    print(f\"Neighborhoods: {neighborhood_list}\")\n",
    "    print(f\"Population: {population}\")\n",
    "    print(f\"Hospitals: {hospitals}\")\n",
    "    print(f\"Primary Care Facilities: {primary_care}\")\n",
    "    print(f\"Total Health Facilities: {total_health_facilities}\")\n",
    "    print()\n"
   ]
  },
  {
   "cell_type": "code",
   "execution_count": 8,
   "metadata": {},
   "outputs": [
    {
     "name": "stdout",
     "output_type": "stream",
     "text": [
      "{'Bloomfield': 433.25, 'Brookline': 2612.6, 'Duquesne Heights': 399.5, 'East Liberty': 412.46666666666664, 'Garfield': 182.15, 'Glen Hazel': 164.75, 'Greenfield': 382.1578947368421, 'Hays': 80.25, 'Hazelwood': 972.25, 'Morningside': 216.8, 'Overbrook': 696.6, 'Point Breeze': 1782.6666666666667, 'Stanton Heights': 1106.75}\n"
     ]
    }
   ],
   "source": [
    "#num of people divided by Total health Facilities\n",
    "div = {}\n",
    "#convert to uppercase \n",
    "for key in neighPop:\n",
    "    if key.upper() in comb:\n",
    "        div[key] = (neighPop[key] / total_health_facilities_count[key.upper()])\n",
    "        \n",
    "print(div)"
>>>>>>> c1cbe533a3d8835862e57d1158d8a29169c6a542
   ]
  },
  {
   "cell_type": "code",
<<<<<<< HEAD
   "execution_count": 11,
   "metadata": {},
   "outputs": [],
   "source": [
    "# create dictionaries to store the counts of hospitals, primary care facilities, and total health facilities in each neighborhood\n",
    "hospitals_count = {}\n",
    "primary_care_count = {}\n",
    "total_health_facilities_count = {}"
   ]
  },
  {
   "cell_type": "markdown",
   "metadata": {},
   "source": [
    "##### Count the hospitals and update dictionaries:\n",
    "\n",
    "    The program iterates through the 'hospi' data frame, extracts the zip code from the 'ZIP' column, and updates the 'hospitals_count' and 'total_health_facilities_count' dictionaries for each neighborhood."
   ]
  },
  {
   "cell_type": "code",
   "execution_count": 12,
   "metadata": {},
   "outputs": [],
   "source": [
    "# iterate through the 'hospi' data frame and update the 'hospitals_count' and 'total_health_facilities_count' dictionaries\n",
    "for index, row in hospi.iterrows():\n",
    "    try:\n",
    "        zip_code = int(row['ZIP'])\n",
    "        if zip_code in zipdict:\n",
    "            for neighborhood in zipdict[zip_code]:\n",
    "                if neighborhood in hospitals_count:\n",
    "                    hospitals_count[neighborhood] += 1\n",
    "                else:\n",
    "                    hospitals_count[neighborhood] = 1\n",
    "                if neighborhood in total_health_facilities_count:\n",
    "                    total_health_facilities_count[neighborhood] += 1\n",
    "                else:\n",
    "                    total_health_facilities_count[neighborhood] = 1\n",
    "    except:\n",
    "        continue"
=======
   "execution_count": 9,
   "metadata": {},
   "outputs": [
    {
     "data": {
      "image/png": "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\n",
      "text/plain": [
       "<Figure size 864x432 with 1 Axes>"
      ]
     },
     "metadata": {
      "needs_background": "light"
     },
     "output_type": "display_data"
    }
   ],
   "source": [
    "#let's plot this out\n",
    "\n",
    "df = pd.DataFrame(list(div.items()), columns=['Neighborhood', 'Num of People per Hosptials + Primary Care'])\n",
    "\n",
    "#largest to smallest\n",
    "df = df.sort_values(by='Num of People per Hosptials + Primary Care', ascending=True)\n",
    "\n",
    "#bar graph\n",
    "plt.figure(figsize=(12, 6))\n",
    "plt.bar(df['Neighborhood'], df['Num of People per Hosptials + Primary Care'])\n",
    "plt.xlabel('Neighborhood')\n",
    "plt.ylabel('Num of People per Hosptials + Primary Care')\n",
    "plt.title('Num of People per Hosptials + Primary Care')\n",
    "plt.xticks(rotation=90)\n",
    "plt.yticks(np.arange(0, max(df['Num of People per Hosptials + Primary Care'])+1, 100))\n",
    "plt.show()"
   ]
  },
  {
   "cell_type": "code",
   "execution_count": 10,
   "metadata": {},
   "outputs": [
    {
     "name": "stdout",
     "output_type": "stream",
     "text": [
      "Top 5 neighborhoods for surviving a zombie apocalypse in Pittsburgh:\n",
      "       Hays\n",
      " Glen Hazel\n",
      "   Garfield\n",
      "Morningside\n",
      " Greenfield\n"
     ]
    }
   ],
   "source": [
    "# Print the top 5 neighborhoods with the lowest number of people per total health facilities\n",
    "top_5_neighborhoods = df.head(5)\n",
    "print(\"Top 5 neighborhoods for surviving a zombie apocalypse in Pittsburgh:\")\n",
    "print(top_5_neighborhoods['Neighborhood'].to_string(index=False))"
   ]
  },
  {
   "cell_type": "markdown",
   "metadata": {},
   "source": [
    "### Conclusion of the Hospital and Primary Care Metric\n",
    "\n",
    "Based on the metric of the least number of people per higher number of hospitals/primary care, **Hays** emerges as the **best neighborhood** for surviving a zombie apocalypse in Pittsburgh. This neighborhood has the lowest number of people per total health facilities (hospitals + primary care), indicating a higher availability of healthcare services per person in case of emergencies during a zombie outbreak.\n",
    "\n",
    "It is important to note that other factors such as the availability of resources like food, water, and shelter, as well as the overall infrastructure of the neighborhoods, have not been taken into consideration in this analysis. However, considering the healthcare facilities as the primary criterion, Hays stands out as the top choice for surviving a zombie apocalypse in Pittsburgh."
>>>>>>> c1cbe533a3d8835862e57d1158d8a29169c6a542
   ]
  },
  {
   "cell_type": "markdown",
   "metadata": {},
   "source": [
<<<<<<< HEAD
    "##### Count the primary care facilities and update dictionaries:\n",
    "\n",
    "    The program iterates through the 'pri_care' data frame, extracts the zip code from the 'PRACTICE_ZIP' column, and updates the 'primary_care_count' and 'total_health_facilities_count' dictionaries for each neighborhood."
=======
    "#### Combing both Supermarket+Convinance and Hospital+Primary Care study the **BEST** neighborhood to survive a zombie apocalypse in Pittsburgh is _HAYS_"
>>>>>>> c1cbe533a3d8835862e57d1158d8a29169c6a542
   ]
  },
  {
   "cell_type": "code",
   "execution_count": 21,
   "metadata": {},
   "outputs": [],
   "source": [
    "# iterate through the 'pri_care' data frame and update the 'primary_care_count' and 'total_health_facilities_count' dictionaries\n",
    "for index, row in pri_care.iterrows():\n",
    "    try:\n",
    "        zip_code = int(row['PRACTICE_ZIP'])\n",
    "        if zip_code in zipdict:\n",
    "            for neighborhood in zipdict[zip_code]:\n",
    "                if neighborhood in primary_care_count:\n",
    "                    primary_care_count[neighborhood] += 1\n",
    "                else:\n",
    "                    primary_care_count[neighborhood] = 1\n",
    "                if neighborhood in total_health_facilities_count:\n",
    "                    total_health_facilities_count[neighborhood] += 1\n",
    "                else:\n",
    "                    total_health_facilities_count[neighborhood] = 1\n",
    "    except:\n",
    "        continue"
   ]
  },
  {
   "cell_type": "markdown",
   "metadata": {},
   "source": [
    "##### Print the results:\n",
    "\n",
    "    Finally, the program iterates through the zip codes in the 'zipdict' dictionary and prints the counts of hospitals, primary care facilities, and total health facilities for each neighborhood. It also prints the neighborhood's population from the 'neighPop' dictionary."
   ]
  },
  {
   "cell_type": "code",
   "execution_count": 22,
   "metadata": {},
   "outputs": [
    {
     "name": "stdout",
     "output_type": "stream",
     "text": [
      "Zip Code: 15201\n",
      "Neighborhoods: ['LAWRENCEVILLE', 'STANTON HEIGHTS']\n",
      "Population: 0\n",
      "Hospitals: 0\n",
      "Primary Care Facilities: 16\n",
      "Total Health Facilities: 16\n",
      "\n",
      "Zip Code: 15203\n",
      "Neighborhoods: ['SOUTHSIDE']\n",
      "Population: 0\n",
      "Hospitals: 0\n",
      "Primary Care Facilities: 28\n",
      "Total Health Facilities: 28\n",
      "\n",
      "Zip Code: 15206\n",
      "Neighborhoods: ['EAST LIBERTY', 'MORNINGSIDE', 'EAST END']\n",
      "Population: 0\n",
      "Hospitals: 0\n",
      "Primary Care Facilities: 96\n",
      "Total Health Facilities: 96\n",
      "\n",
      "Zip Code: 15207\n",
      "Neighborhoods: ['HAZELWOOD', 'GREENFIELD', 'GLENWOOD', 'GLEN HAZEL', 'HAYS', 'LINCOLN PL']\n",
      "Population: 0\n",
      "Hospitals: 0\n",
      "Primary Care Facilities: 78\n",
      "Total Health Facilities: 78\n",
      "\n",
      "Zip Code: 15208\n",
      "Neighborhoods: ['HOMEWOOD', 'BRUSHTON', 'EAST END', 'POINT BREEZE']\n",
      "Population: 0\n",
      "Hospitals: 0\n",
      "Primary Care Facilities: 54\n",
      "Total Health Facilities: 54\n",
      "\n",
      "Zip Code: 15210\n",
      "Neighborhoods: ['MT WASHINGTON', 'DUQUESNE HEIGHTS']\n",
      "Population: 0\n",
      "Hospitals: 0\n",
      "Primary Care Facilities: 24\n",
      "Total Health Facilities: 24\n",
      "\n",
      "Zip Code: 15213\n",
      "Neighborhoods: ['OAKLAND', 'BELLEFIELD']\n",
      "Population: 0\n",
      "Hospitals: 0\n",
      "Primary Care Facilities: 188\n",
      "Total Health Facilities: 188\n",
      "\n",
      "Zip Code: 15217\n",
      "Neighborhoods: ['SQUIRREL HILL', 'GREENFIELD', 'BROWNS HILL']\n",
      "Population: 0\n",
      "Hospitals: 0\n",
      "Primary Care Facilities: 98\n",
      "Total Health Facilities: 98\n",
      "\n",
      "Zip Code: 15219\n",
      "Neighborhoods: ['UPTOWN', 'HERRON HILL', 'SCHENLEY HEIGHTS']\n",
      "Population: 0\n",
      "Hospitals: 0\n",
      "Primary Care Facilities: 60\n",
      "Total Health Facilities: 60\n",
      "\n",
      "Zip Code: 15222\n",
      "Neighborhoods: ['DOWNTOWN']\n",
      "Population: 0\n",
      "Hospitals: 0\n",
      "Primary Care Facilities: 26\n",
      "Total Health Facilities: 26\n",
      "\n",
      "Zip Code: 15224\n",
      "Neighborhoods: ['BLOOMFIELD', 'GARFIELD']\n",
      "Population: 0\n",
      "Hospitals: 0\n",
      "Primary Care Facilities: 72\n",
      "Total Health Facilities: 72\n",
      "\n",
      "Zip Code: 15226\n",
      "Neighborhoods: ['BROOKLINE', 'OVERBROOK']\n",
      "Population: 0\n",
      "Hospitals: 0\n",
      "Primary Care Facilities: 20\n",
      "Total Health Facilities: 20\n",
      "\n",
      "Zip Code: 15230\n",
      "Neighborhoods: ['VETERAN’S HOSPITAL']\n",
      "Population: 0\n",
      "Hospitals: 0\n",
      "Primary Care Facilities: 0\n",
      "Total Health Facilities: 0\n",
      "\n",
      "Zip Code: 15260\n",
      "Neighborhoods: ['THE UNIVERSITY OF PITTSBURGH']\n",
      "Population: 0\n",
      "Hospitals: 0\n",
      "Primary Care Facilities: 0\n",
      "Total Health Facilities: 0\n",
      "\n",
      "Zip Code: 15282\n",
      "Neighborhoods: ['DUQUESNE UNIVERSITY']\n",
      "Population: 0\n",
      "Hospitals: 0\n",
      "Primary Care Facilities: 0\n",
      "Total Health Facilities: 0\n",
      "\n"
     ]
    }
   ],
   "source": [
    "# print the counts of hospitals, primary care facilities, and total health facilities in each neighborhood\n",
    "for zip_code in zipdict.keys():\n",
    "    neighborhood_list = zipdict[zip_code]\n",
    "    hospitals = hospitals_count.get(neighborhood_list[0], 0)\n",
    "    primary_care = primary_care_count.get(neighborhood_list[0], 0)\n",
    "    for neighborhood in neighborhood_list[1:]:\n",
    "        hospitals += hospitals_count.get(neighborhood, 0)\n",
    "        primary_care += primary_care_count.get(neighborhood, 0)\n",
    "    total_health_facilities = hospitals + primary_care\n",
    "    population = neighPop.get(neighborhood_list[0], 0)\n",
    "    print(f\"Zip Code: {zip_code}\")\n",
    "    print(f\"Neighborhoods: {neighborhood_list}\")\n",
    "    print(f\"Population: {population}\")\n",
    "    print(f\"Hospitals: {hospitals}\")\n",
    "    print(f\"Primary Care Facilities: {primary_care}\")\n",
    "    print(f\"Total Health Facilities: {total_health_facilities}\")\n",
    "    print()"
   ]
  },
  {
   "cell_type": "markdown",
   "metadata": {},
   "source": [
    "##### Claculate the Number of people per health facility\n",
    "    Checking if the uppercase version of the neighborhood name from 'neighPop' is present in the 'total_health_facilities_count' dictionary, which contains the total health facilities count for each neighborhood.\n",
    "\n",
    "    Calculate the ratio and update the 'div' dictionary:\n",
    "    If the neighborhood is found in the 'total_health_facilities_count' dictionary, the program calculates the ratio by dividing the population of the neighborhood by the total health facilities count for that neighborhood. The result is stored in the 'div' dictionary."
   ]
  },
  {
   "cell_type": "code",
   "execution_count": 27,
   "metadata": {},
   "outputs": [
    {
     "name": "stdout",
     "output_type": "stream",
     "text": [
      "{'Bloomfield': 240.69444444444446, 'Brookline': 1306.3, 'Duquesne Heights': 199.75, 'East Liberty': 206.23333333333332, 'Garfield': 101.19444444444444, 'Glen Hazel': 82.375, 'Greenfield': 191.07894736842104, 'Hays': 40.125, 'Hazelwood': 486.125, 'Morningside': 108.4, 'Overbrook': 348.3, 'Point Breeze': 891.3333333333334, 'Stanton Heights': 553.375}\n"
     ]
    }
   ],
   "source": [
    "#num of people divided by Total health Facilities\n",
    "div = {}\n",
    "#convert to uppercase \n",
    "for key in neighPop:\n",
    "    if key.upper() in comb:\n",
    "        div[key] = (neighPop[key] / total_health_facilities_count[key.upper()])\n",
    "        \n",
    "print(div)"
   ]
  },
  {
   "cell_type": "markdown",
   "metadata": {},
   "source": [
    "##### Plot the results\n",
    "\n",
    "    Convert the 'div' dictionary to a data frame:\n",
    "    Convert the 'div' dictionary to a pandas data frame called 'df' with two columns: 'Neighborhood' and 'Num of People per Hosptials + Primary Care'.\n",
    "\n",
    "    Sort the data frame:\n",
    "    The data frame 'df' is sorted by the 'Num of People per Hosptials + Primary Care' column in ascending order.\n",
    "\n",
    "    Create a bar graph:\n",
    "    The program imports the 'pyplot' module from the 'matplotlib' library as 'plt' (not shown in the code snippet, but it should be added at the beginning of the script).\n",
    "    It then creates a new figure with a custom size (12 by 6 inches) and generates a bar graph using the 'Neighborhood' column as the x-axis and the 'Num of People per Hosptials + Primary Care' column as the y-axis.\n",
    "\n",
    "    Customize the graph:\n",
    "    Sets the x-axis label, y-axis label, and the title for the graph.\n",
    "    The x-axis tick labels are rotated by 90 degrees to improve readability.\n",
    "    The y-axis tick labels are set to display integer values in increments of 100, starting from 0 to the maximum value in the 'Num of People per Hosptials + Primary Care' column.\n",
    "\n",
    "    Display the graph:\n",
    "    Use the 'plt.show()' function to display the graph."
   ]
  },
  {
   "cell_type": "code",
   "execution_count": 29,
   "metadata": {},
   "outputs": [
    {
     "data": {
      "image/png": "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\n",
      "text/plain": [
       "<Figure size 864x432 with 1 Axes>"
      ]
     },
     "metadata": {
      "needs_background": "light"
     },
     "output_type": "display_data"
    }
   ],
   "source": [
    "#let's plot this out\n",
    "\n",
    "df = pd.DataFrame(list(div.items()), columns=['Neighborhood', 'Num of People per Hosptials + Primary Care'])\n",
    "\n",
    "#largest to smallest\n",
    "df = df.sort_values(by='Num of People per Hosptials + Primary Care', ascending=True)\n",
    "\n",
    "#bar graph\n",
    "plt.figure(figsize=(12, 6))\n",
    "plt.bar(df['Neighborhood'], df['Num of People per Hosptials + Primary Care'])\n",
    "plt.xlabel('Neighborhood')\n",
    "plt.ylabel('Num of People per Hosptials + Primary Care')\n",
    "plt.title('Num of People per Hosptials + Primary Care')\n",
    "plt.xticks(rotation=90)\n",
    "plt.yticks(np.arange(0, max(df['Num of People per Hosptials + Primary Care'])+1, 100))\n",
    "plt.show()"
   ]
  },
  {
   "cell_type": "code",
   "execution_count": 30,
   "metadata": {},
   "outputs": [
    {
     "name": "stdout",
     "output_type": "stream",
     "text": [
      "Top 5 neighborhoods for surviving a zombie apocalypse in Pittsburgh:\n",
      "       Hays\n",
      " Glen Hazel\n",
      "   Garfield\n",
      "Morningside\n",
      " Greenfield\n"
     ]
    }
   ],
   "source": [
    "# Print the top 5 neighborhoods with the lowest number of people per total health facilities\n",
    "top_5_neighborhoods = df.head(5)\n",
    "print(\"Top 5 neighborhoods for surviving a zombie apocalypse in Pittsburgh:\")\n",
    "print(top_5_neighborhoods['Neighborhood'].to_string(index=False))"
   ]
  },
  {
   "cell_type": "markdown",
   "metadata": {},
   "source": [
    "### Conclusion of the Hospital and Primary Care Metric\n",
    "\n",
    "Based on the results, **Hays** emerges as the **best neighborhood** for surviving a zombie apocalypse in Pittsburgh. This neighborhood has the lowest number of people per total health facilities (hospitals + primary care), indicating a higher availability of healthcare services per person in case of emergencies during a zombie outbreak.\n",
    "\n",
    "It is important to note that other factors such as the availability of resources like food, water, and shelter, as well as the overall infrastructure of the neighborhoods, have not been taken into consideration in this analysis. However, considering the healthcare facilities as the primary criterion, Hays stands out as the top choice for surviving a zombie apocalypse in Pittsburgh."
   ]
  },
  {
   "cell_type": "markdown",
   "metadata": {},
   "source": [
    "#### Combing both Supermarket+Convinance and Hospital+Primary Care study the **BEST** neighborhood to survive a zombie apocalypse in Pittsburgh is **HAYS**"
   ]
  }
 ],
 "metadata": {
  "kernelspec": {
   "display_name": "Python 3",
   "language": "python",
   "name": "python3"
  },
  "language_info": {
   "codemirror_mode": {
    "name": "ipython",
    "version": 3
   },
   "file_extension": ".py",
   "mimetype": "text/x-python",
   "name": "python",
   "nbconvert_exporter": "python",
   "pygments_lexer": "ipython3",
   "version": "3.8.3"
  }
 },
 "nbformat": 4,
 "nbformat_minor": 4
}
